{
 "cells": [
  {
   "cell_type": "markdown",
   "metadata": {},
   "source": [
    "# Project Milestone Report\n",
    "### Magdalena Barros, Paula Cadena, Michael Rosenbaum | CAPP 30254: Machine Learning for Public Policy \n",
    "\n",
    "This report describes our current progress to complete the CAPP 30254 proxy means test project. In our first two weeks, we've conducted a series of data exploration exercises to better define our training data as well as determined what our approach will be to implement and compare a set of models.\n",
    "\n",
    "Our approach will be to use a set of .py functions to analyze the data and create 3 candidate datasets to each contribute to the cleaning process. Then, we will create a data pipeline to train and evaluate the efficacy of 4 models we have covered in class:\n",
    "- Regression forests of some variety (XGBoost, standard CART)\n",
    "- K-Nearest Neighbors\n",
    "- Penalized multinomial logistic regressions of some variety (Elastic net, LASSO, etc.)\n",
    "- A simple Neural Net\n",
    "\n",
    "We will evaluate these models based on the model evaluation criteria we will learn in the remaining weeks of the course, likely focusing on predictive accuracy, not computation time due to the relatively smaller size of the data.\n",
    "\n",
    "## 1 | Data Exploration\n",
    "\n",
    "Our data exploration has focued on understanding the underlying dataset. The data comes from a [2017 ILO survey administered](https://webapps.ilo.org/surveyLib/index.php/catalog/7230/related-materials) by the Intra-American Development Bank (IDB).\n",
    "\n",
    "It is drawn from a nationally representative household survey and includes a subset of household- and individual-level variables that are cleaned by the IDB.\n",
    "\n",
    "So far, our main focus has been data quality assurance and data management. We have:\n",
    "- Loaded the data into Python;\n",
    "- Removed extraneous variables created by the IDB such as squared age that are fully dependent on underlying data from respondents. \n",
    "- Reviewed the survey documentation to understand the data generation process.\n",
    "- Evaluated data quality on missingness, item nonresponse, and unit of analysis.\n",
    "- Created a development and training data split so that our internal analysis of missing\n",
    "\n",
    "### Results\n",
    "\n",
    "Three variables have a significant amount of missing values:\n",
    "\n",
    "1. Type of house (`v2a1`): Families with fully paid houses, living in precarious situations, and others have missing values. The choice is to deal with this by replacing NaN values with zero in cases where houses are fully paid and leaving the missing values in all others.\n",
    "\n",
    "1. Number of tablets owned (`v18q1`): All `NaN` values are the cases in which families said that they don't own a tablet in question `v18q`. The decision was to replace `NaN` with zeros, referencing that zero tablets are owned by the household.\n",
    "    \n",
    "1. Grades behind (`rez_esc`): This variable calculates how many years behind a person is in education based on age. It has so many missing values because it only references cases where the family member is between 5 and 17 years old. All others are considered `NaN`, and the decision was not to make any changes.\n"
   ]
  },
  {
   "cell_type": "code",
   "execution_count": 13,
   "metadata": {},
   "outputs": [],
   "source": [
    "# External packages\n",
    "import numpy as np\n",
    "import pandas as pd\n",
    "import sys\n",
    "import os\n",
    "import matplotlib.pyplot as plt\n",
    "from sklearn.model_selection import train_test_split\n",
    "# from imblearn.over_sampling import SMOTE\n",
    "\n",
    "# Internal functions\n",
    "sys.path.append(os.path.dirname(os.path.abspath(''))) # From https://stackoverflow.com/questions/9856683/using-pythons-os-path-how-do-i-go-up-one-directory\n",
    "from model.clean import load_data"
   ]
  },
  {
   "cell_type": "code",
   "execution_count": 15,
   "metadata": {},
   "outputs": [
    {
     "data": {
      "text/plain": [
       "v2a1        6860\n",
       "v18q1       7342\n",
       "rez_esc     7928\n",
       "meaneduc       5\n",
       "dtype: int64"
      ]
     },
     "execution_count": 15,
     "metadata": {},
     "output_type": "execute_result"
    }
   ],
   "source": [
    "cr_df = load_data(\"train.csv\")\n",
    "cr_df.isnull().sum()[cr_df.isnull().sum() != 0]"
   ]
  },
  {
   "cell_type": "markdown",
   "metadata": {},
   "source": [
    "### Outcome Distribution\n",
    "\n",
    "The outcome distribution is also heavily skewed. Even the outcome is subset to the household-level nearly 70% of the observations are in the highest income category."
   ]
  },
  {
   "cell_type": "code",
   "execution_count": 16,
   "metadata": {},
   "outputs": [
    {
     "data": {
      "image/png": "[encoded data removed]",
      "text/plain": [
       "<Figure size 640x480 with 1 Axes>"
      ]
     },
     "metadata": {},
     "output_type": "display_data"
    }
   ],
   "source": [
    "# Filter the DataFrame where 'parentesco1' equals 1\n",
    "parentesco1_eq_1 = cr_df[cr_df['parentesco1'] == 1]\n",
    "parentesco2_eq_1 = cr_df[cr_df['parentesco2'] == 1]\n",
    "parentesco3_eq_1 = cr_df[cr_df['parentesco3'] == 1]\n",
    "\n",
    "# Concatenate the filtered DataFrames to create a subset of unique 'idhogar' values\n",
    "subset_df = pd.concat([parentesco1_eq_1, parentesco2_eq_1, parentesco3_eq_1]).drop_duplicates(subset='idhogar')\n",
    "\n",
    "# Plot labels\n",
    "target_counts = subset_df['Target'].value_counts()\n",
    "target_counts.plot(kind='bar')\n",
    "\n",
    "plt.xlabel('Target')\n",
    "plt.ylabel('Frequency')\n",
    "plt.title('Target Frequencies')\n",
    "plt.show()"
   ]
  },
  {
   "cell_type": "markdown",
   "metadata": {},
   "source": [
    "### Decisions\n",
    "\n",
    "- We will oversample using synthetic data per Katherine's suggestion to respond to this in both the training and test data. We use the `imbalanced_learn.SMOTE` package to do so.\n",
    "- Drop calculated variables including: `edjefe`, `edjefa`, `area2`, `r4h1`, `r4h2`, `r4h3`, `r4m1`, `r4m2`, `r4m3`, `r4t1`, `r4t2`, `overcrowding`, `tamhog`, `tamviv`, `male`, `hogar_total`, `dependency`, `meaneduc`, `SQBescolari`, `SQBage`, `SQBhogar_total`, `SQBedjefe`, `SQBhogar_nin`, `SQBovercrowding`, `SQBdependency`, `SQBmeaned`, `agesq`, `techozinc`,\n",
    "`techoentrepiso`,\n",
    "`techocane`,\n",
    "`techootro`.\n",
    "- Retain `hhsize` and drop `tamhog`, `r4t3`, `tamviv` as `hhsize` is calculated by the survey software based on the household roster, whereas each other is not aligned with the counts of household compositions variables (age, sex, etc.) \n",
    "- Collapse individual-level categorical variables that have percentages less than 5%:\n",
    "    - `estadocivil` is collapsed into 4 categories from 7.\n",
    "    - `instlevel` is collapsed into 6 categories from 10.\n",
    "    - `parentesco` is collapsed into 4 categories from 12.\n",
    "- Collapse household-level categorical variables that have percentages less than 5% including durable assets: `piso`, `pared`, `techo`, `sanitario`, `elimbasu`, `tipovivi` (forthcoming)"
   ]
  },
  {
   "cell_type": "markdown",
   "metadata": {},
   "source": [
    "### Output\n",
    "\n",
    "This has lead us to a foundational dataset with only data from the underlying population (and not IDB analysts) remaining, only single indicator variables for discrete variables (i.e., only keeping male from male and female), and only categories with 5% of more responses.\n",
    "\n",
    "We will create two sets of training data from this to train our chosen models on. These training sets aim to compare different approaches to defining the taregt population:\n",
    "\n",
    "1. **Parsimonious household-level dataset**: The smallest and simplest dataset we can create of household-level data. This assumes that the survey data contains a lot of noisy variables and attempts to select candidate variables most strongly associated with underlying proxies for poverty status: liquid and illiquid wealth, income, income potential, and resilience.\n",
    "1. **Complicated household-level dataset**: Keeping the data at the household-level, we will generate features from the individual-level data and a set of more complex interactions between candidate features.\n",
    "\n",
    "## 2 | Feature Engineering\n",
    "\n",
    "We have started to develop features with a focus on three initial types of features:\n",
    "\n",
    "- Comparisons between individual-level responses and household-responses (e.g., minimum education or number of students behind grade-level)\n",
    "- Collapsing categories for categoricl variables with low response rates.\n",
    "- Interactions between plausibly-related variables (e.g., water AND electricity)\n",
    "\n",
    "## 3 | Future work\n",
    "\n",
    "We have developed developed to-do list for future work to ensure that we are on track for completing the fina work.\n",
    "\n",
    "- \\[May 5\\] Create candidate datasets\n",
    "- \\[May 10\\] Model selection\n",
    "- \\[May 17\\] Model validation\n",
    "- \\[May 19\\] Report completion"
   ]
  }
 ],
 "metadata": {
  "kernelspec": {
   "display_name": "costa_rica_proxy_means_test-oy7JmmkA-py3.12",
   "language": "python",
   "name": "python3"
  },
  "language_info": {
   "codemirror_mode": {
    "name": "ipython",
    "version": 3
   },
   "file_extension": ".py",
   "mimetype": "text/x-python",
   "name": "python",
   "nbconvert_exporter": "python",
   "pygments_lexer": "ipython3",
   "version": "3.9.6"
  }
 },
 "nbformat": 4,
 "nbformat_minor": 2
}
