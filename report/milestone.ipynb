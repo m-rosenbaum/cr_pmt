{
 "cells": [
  {
   "cell_type": "markdown",
   "metadata": {},
   "source": [
    "# Project Milestone Report\n",
    "### Magdalena Barros, Paula Cadena, Michael Rosenbaum | CAPP 30254: Machine Learning for Public Policy \n",
    "\n",
    "This report describes our current progress to complete the CAPP 30254 proxy means test project. In our first two weeks, we've conducted a series of data exploration exercises to better define our training data as well as determined what our approach will be to implement and compare a set of models.\n",
    "\n",
    "Our approach will be to use a set of .py functions to analyze the data and create 3 candidate datasets to each contribute to the cleaning process. Then, we will create a data pipeline to train and evaluate the efficacy of 4 models we have covered in class:\n",
    "- Regression forests of some variety (XGBoost, standard CART)\n",
    "- K-Nearest Neighbors\n",
    "- Penalized multinomial logistic regressions of some variety (Elastic net, LASSO, etc.)\n",
    "- A simple Neural Net\n",
    "\n",
    "We will evaluate these models based on the model evaluation criteria we will learn in the remaining weeks of the course, likely focusing on predictive accuracy, not computation time due to the relatively smaller size of the data.\n",
    "\n",
    "## 1 | Data Exploration\n",
    "\n",
    "Our data exploration has focued on understanding the underlying dataset. The data comes from a [2017 ILO survey administered](https://webapps.ilo.org/surveyLib/index.php/catalog/7230/related-materials) by the Intra-American Development Bank.\n",
    "\n",
    "It is drawn from a nationally representative household survey and includes a subset of household- and individual-level variables that are cleaned by the IDB.\n",
    "\n",
    "So far, our main focus has been data quality assurance and data management. We have:\n",
    "- Loaded the data into Python;\n",
    "- Removed extraneous variables created by the IDB such as squared age that are fully dependent on underlying data from respondents. \n",
    "- Reviewed the survey documentation to understand the data generation process.\n",
    "- Evaluated data quality on missingness, item nonresponse, and \n",
    "- Created a development and training data split so that our internal analysis of missing\n",
    "\n",
    "### Results\n",
    "\n",
    "Three variables have missing values:\n"
   ]
  },
  {
   "cell_type": "code",
   "execution_count": 5,
   "metadata": {},
   "outputs": [
    {
     "ename": "ModuleNotFoundError",
     "evalue": "No module named 'imblearn'",
     "output_type": "error",
     "traceback": [
      "\u001b[0;31m---------------------------------------------------------------------------\u001b[0m",
      "\u001b[0;31mModuleNotFoundError\u001b[0m                       Traceback (most recent call last)",
      "Cell \u001b[0;32mIn[5], line 8\u001b[0m\n\u001b[1;32m      6\u001b[0m \u001b[38;5;28;01mimport\u001b[39;00m \u001b[38;5;21;01mmatplotlib\u001b[39;00m\u001b[38;5;21;01m.\u001b[39;00m\u001b[38;5;21;01mpyplot\u001b[39;00m \u001b[38;5;28;01mas\u001b[39;00m \u001b[38;5;21;01mplt\u001b[39;00m\n\u001b[1;32m      7\u001b[0m \u001b[38;5;28;01mfrom\u001b[39;00m \u001b[38;5;21;01msklearn\u001b[39;00m\u001b[38;5;21;01m.\u001b[39;00m\u001b[38;5;21;01mmodel_selection\u001b[39;00m \u001b[38;5;28;01mimport\u001b[39;00m train_test_split\n\u001b[0;32m----> 8\u001b[0m \u001b[38;5;28;01mfrom\u001b[39;00m \u001b[38;5;21;01mimblearn\u001b[39;00m\u001b[38;5;21;01m.\u001b[39;00m\u001b[38;5;21;01mover_sampling\u001b[39;00m \u001b[38;5;28;01mimport\u001b[39;00m SMOTE\n\u001b[1;32m     10\u001b[0m \u001b[38;5;66;03m# Internal functions\u001b[39;00m\n\u001b[1;32m     11\u001b[0m sys\u001b[38;5;241m.\u001b[39mpath\u001b[38;5;241m.\u001b[39mappend(os\u001b[38;5;241m.\u001b[39mpath\u001b[38;5;241m.\u001b[39mdirname(os\u001b[38;5;241m.\u001b[39mpath\u001b[38;5;241m.\u001b[39mabspath(\u001b[38;5;124m'\u001b[39m\u001b[38;5;124m'\u001b[39m))) \u001b[38;5;66;03m# From https://stackoverflow.com/questions/9856683/using-pythons-os-path-how-do-i-go-up-one-directory\u001b[39;00m\n",
      "\u001b[0;31mModuleNotFoundError\u001b[0m: No module named 'imblearn'"
     ]
    }
   ],
   "source": [
    "# External packages\n",
    "import numpy as np\n",
    "import pandas as pd\n",
    "import sys\n",
    "import os\n",
    "import matplotlib.pyplot as plt\n",
    "from sklearn.model_selection import train_test_split\n",
    "from imblearn.over_sampling import SMOTE\n",
    "\n",
    "# Internal functions\n",
    "sys.path.append(os.path.dirname(os.path.abspath(''))) # From https://stackoverflow.com/questions/9856683/using-pythons-os-path-how-do-i-go-up-one-directory\n",
    "from model.clean import load_data\n",
    "\n",
    "%load_ext autoreload\n",
    "%autoreload 2"
   ]
  },
  {
   "cell_type": "code",
   "execution_count": null,
   "metadata": {},
   "outputs": [
    {
     "data": {
      "text/plain": [
       "v2a1        6860\n",
       "v18q1       7342\n",
       "rez_esc     7928\n",
       "meaneduc       5\n",
       "dtype: int64"
      ]
     },
     "execution_count": 3,
     "metadata": {},
     "output_type": "execute_result"
    }
   ],
   "source": [
    "cr_df = load_data(\"train.csv\")\n",
    "cr_df.isnull().sum()[cr_df.isnull().sum() != 0]"
   ]
  },
  {
   "cell_type": "markdown",
   "metadata": {},
   "source": [
    "explain decision for missing values:\n"
   ]
  },
  {
   "cell_type": "markdown",
   "metadata": {},
   "source": [
    "### Outcome Distribution\n",
    "\n",
    "TODO: Outcome skewed (look at smote or ADAsyn)"
   ]
  },
  {
   "cell_type": "code",
   "execution_count": null,
   "metadata": {},
   "outputs": [
    {
     "ename": "NameError",
     "evalue": "name 'cr_df' is not defined",
     "output_type": "error",
     "traceback": [
      "\u001b[0;31m---------------------------------------------------------------------------\u001b[0m",
      "\u001b[0;31mNameError\u001b[0m                                 Traceback (most recent call last)",
      "Cell \u001b[0;32mIn[1], line 1\u001b[0m\n\u001b[0;32m----> 1\u001b[0m target_counts \u001b[38;5;241m=\u001b[39m \u001b[43mcr_df\u001b[49m[\u001b[38;5;124m'\u001b[39m\u001b[38;5;124mTarget\u001b[39m\u001b[38;5;124m'\u001b[39m]\u001b[38;5;241m.\u001b[39mvalue_counts()\n\u001b[1;32m      3\u001b[0m target_counts\u001b[38;5;241m.\u001b[39mplot(kind\u001b[38;5;241m=\u001b[39m\u001b[38;5;124m'\u001b[39m\u001b[38;5;124mbar\u001b[39m\u001b[38;5;124m'\u001b[39m)\n\u001b[1;32m      5\u001b[0m plt\u001b[38;5;241m.\u001b[39mxlabel(\u001b[38;5;124m'\u001b[39m\u001b[38;5;124mTarget\u001b[39m\u001b[38;5;124m'\u001b[39m)\n",
      "\u001b[0;31mNameError\u001b[0m: name 'cr_df' is not defined"
     ]
    }
   ],
   "source": [
    "target_counts = cr_df['Target'].value_counts()\n",
    "\n",
    "target_counts.plot(kind='bar')\n",
    "\n",
    "plt.xlabel('Target')\n",
    "plt.ylabel('Frequency')\n",
    "plt.title('Bar Graph of Target Frequencies')\n",
    "plt.show()"
   ]
  },
  {
   "cell_type": "code",
   "execution_count": null,
   "metadata": {},
   "outputs": [
    {
     "name": "stdout",
     "output_type": "stream",
     "text": [
      "Percentage of each value in the 'Target' column subset on the 'idhogar':\n",
      "Target\n",
      "4    65.39%\n",
      "2    15.19%\n",
      "3    12.22%\n",
      "1      7.2%\n",
      "Name: count, dtype: object\n"
     ]
    }
   ],
   "source": [
    "# Calculate value counts for the 'Target' column subset by idhogar:\n",
    "subset_idhogar = cr_df.drop_duplicates(subset=['idhogar'])['Target']\n",
    "value_counts = subset_idhogar.value_counts()\n",
    "\n",
    "# Calculate total number of observations\n",
    "total_obs = len(subset_idhogar)\n",
    "\n",
    "# Calculate percentages for each value and round to two decimal places\n",
    "percentages = (value_counts / total_obs * 100).round(2)\n",
    "\n",
    "# Add the percentage symbol '%' to each value\n",
    "percentages_with_symbol = percentages.astype(str) + '%'\n",
    "\n",
    "print(\"Percentage of each value in the 'Target' column subset on the 'idhogar':\")\n",
    "print(percentages_with_symbol)"
   ]
  },
  {
   "cell_type": "code",
   "execution_count": null,
   "metadata": {},
   "outputs": [],
   "source": [
    "X = cr_df.drop(columns=['Target'])  \n",
    "y = cr_df['Target']\n",
    "\n",
    "# Split data into training (70%) and temporary (30%) sets\n",
    "X_train, X_temp, y_train, y_temp = train_test_split(X, y, test_size=0.3, random_state=42)\n",
    "\n",
    "# Apply SMOTE to the training set\n",
    "smote = SMOTE()\n",
    "X_train_resampled, y_train_resampled = smote.fit_resample(X_train, y_train)\n",
    "\n",
    "# Split the temporary set into validation (10%) and test (20%) sets\n",
    "X_val, X_test, y_val, y_test = train_test_split(X_temp, y_temp, test_size=2/3, random_state=42)\n",
    "\n",
    "print(\"Training set size after SMOTE:\", len(X_train_resampled))\n",
    "print(\"Validation set size:\", len(X_val))\n",
    "print(\"Test set size:\", len(X_test))"
   ]
  },
  {
   "cell_type": "markdown",
   "metadata": {},
   "source": [
    "### Decisions\n",
    "\n",
    "- Retain `hhsize` and drop `tamhog`, `r413`, `tamviv` as `hhsize` is calculated by the survey software based on the household roster, whereas each other is not aligned with the counts of household compositions variables (age, sex, etc.) "
   ]
  },
  {
   "cell_type": "markdown",
   "metadata": {},
   "source": [
    "### Details\n",
    "\n",
    "This has lead us to a foundational dataset with only data from the underlying population (and not IDB analysts) remaining, only single indicator variables for discrete variables (i.e., only keeping male from male and female), as well as summary statistics to describe missingness and item response rates for single selection items that are encoded as a series of indicator variables.\n",
    "\n",
    "We will create three sets of training data to apply our models on. These training sets aim to compare different approaches to defining the taregt population:\n",
    "\n",
    "1. **Parsimonious household-level dataset**: The smallest and simplest dataset we can create of household-level data. This assumes that the survey data contains a lot of noisy variables and attempts to select candidate variables most strongly associated with underlying proxies for poverty status: liquid and illiquid wealth, income, income potential, and resilience.\n",
    "1. **Complicated household-level dataset**: Keeping the data at the household-level, we will generate features from the individual-level data and a set of more complex interactions between candidate features.\n",
    "1. **Respondent-level dataset**: We will make individual predictions of poverty status based on individuals in each household and then train weights for the predictions for a composite. This will take advantage of variance in responses among household members in the survey to take advantage of predictors of non-classical measurement error associated with respondent differences.\n",
    "\n",
    "## 2 | Feature Engineering\n",
    "\n",
    "We have started to develop features with a focus on three initial types of features:\n",
    "\n",
    "- Comparisons between individual-level responses and household-responses (e.g., minimum education or number of students behind grade-level)\n",
    "- Collapsing categories for categoricl variables with low response rates.\n",
    "- Interactions between plausibly-related variables (e.g., water AND electricity)\n",
    "\n",
    "## 3 | Future work\n",
    "\n",
    "We have developed developed to-do list for future work to ensure that we are on track for completing the fina work.\n",
    "\n",
    "- \\[May 3\\] Create candidate datasets\n",
    "- \\[May 10\\] Model selection\n",
    "- \\[May 17\\] Model validation\n",
    "- \\[May 19\\] Report completion"
   ]
  }
 ],
 "metadata": {
  "kernelspec": {
   "display_name": "costa_rica_proxy_means_test-oy7JmmkA-py3.12",
   "language": "python",
   "name": "python3"
  },
  "language_info": {
   "codemirror_mode": {
    "name": "ipython",
    "version": 3
   },
   "file_extension": ".py",
   "mimetype": "text/x-python",
   "name": "python",
   "nbconvert_exporter": "python",
   "pygments_lexer": "ipython3",
   "version": "3.9.6"
  }
 },
 "nbformat": 4,
 "nbformat_minor": 2
}
