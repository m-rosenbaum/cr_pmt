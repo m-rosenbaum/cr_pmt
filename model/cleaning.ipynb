{
 "cells": [
  {
   "cell_type": "markdown",
   "metadata": {},
   "source": [
    "# Data cleaning and dataset creation"
   ]
  },
  {
   "cell_type": "markdown",
   "metadata": {
    "vscode": {
     "languageId": "plaintext"
    }
   },
   "source": [
    "## Imports"
   ]
  },
  {
   "cell_type": "code",
   "execution_count": 125,
   "metadata": {},
   "outputs": [
    {
     "name": "stdout",
     "output_type": "stream",
     "text": [
      "The autoreload extension is already loaded. To reload it, use:\n",
      "  %reload_ext autoreload\n"
     ]
    }
   ],
   "source": [
    "# Internal functions\n",
    "import clean\n",
    "import tuning\n",
    "from split import cr_pmt_split\n",
    "\n",
    "%load_ext autoreload\n",
    "%autoreload 2"
   ]
  },
  {
   "cell_type": "markdown",
   "metadata": {},
   "source": [
    "## Data imports and cleaning\n",
    "\n",
    "First, load the data and remove extraneous variables. Then, collapse categories at the respondent-level. Finally, move to collapse categories. "
   ]
  },
  {
   "cell_type": "code",
   "execution_count": 126,
   "metadata": {},
   "outputs": [],
   "source": [
    "# Import data\n",
    "cr_df = clean.load_data(\"train.csv\")"
   ]
  },
  {
   "cell_type": "code",
   "execution_count": 127,
   "metadata": {},
   "outputs": [],
   "source": [
    "# Adjust missing values\n",
    "cr_df = clean.handle_missing(cr_df)\n",
    "\n",
    "# Collapse individual-level categories\n",
    "cr_df = clean.clean_educ_cats(cr_df)\n",
    "cr_df = clean.clean_marital_cats(cr_df)\n",
    "cr_df = clean.clean_hhh_rel_cats(cr_df)\n",
    "\n",
    "# Collapse household-level response categories\n",
    "cr_df = clean.clean_pared_material_cats(cr_df)\n",
    "cr_df = clean.clean_piso_material_cats(cr_df)\n",
    "cr_df = clean.clean_sanitario_cats(cr_df)\n",
    "cr_df = clean.clean_tipovivi_cats(cr_df)"
   ]
  },
  {
   "cell_type": "markdown",
   "metadata": {},
   "source": [
    "## 2 | Feature engineering\n",
    "\n",
    "This section creates features used in the analysis."
   ]
  },
  {
   "cell_type": "code",
   "execution_count": 128,
   "metadata": {},
   "outputs": [
    {
     "data": {
      "text/html": [
       "<div>\n",
       "<style scoped>\n",
       "    .dataframe tbody tr th:only-of-type {\n",
       "        vertical-align: middle;\n",
       "    }\n",
       "\n",
       "    .dataframe tbody tr th {\n",
       "        vertical-align: top;\n",
       "    }\n",
       "\n",
       "    .dataframe thead th {\n",
       "        text-align: right;\n",
       "    }\n",
       "</style>\n",
       "<table border=\"1\" class=\"dataframe\">\n",
       "  <thead>\n",
       "    <tr style=\"text-align: right;\">\n",
       "      <th></th>\n",
       "      <th>Id</th>\n",
       "      <th>v2a1</th>\n",
       "      <th>hacdor</th>\n",
       "      <th>rooms</th>\n",
       "      <th>hacapo</th>\n",
       "      <th>v14a</th>\n",
       "      <th>refrig</th>\n",
       "      <th>v18q1</th>\n",
       "      <th>r4t3</th>\n",
       "      <th>escolari</th>\n",
       "      <th>...</th>\n",
       "      <th>piso_material_mosaic,  ceramic,  terrazo</th>\n",
       "      <th>piso_material_other</th>\n",
       "      <th>piso_material_wood</th>\n",
       "      <th>rubbish_disposal_1 tanker truck</th>\n",
       "      <th>rubbish_disposal_3 burning</th>\n",
       "      <th>rubbish_disposal_6 other</th>\n",
       "      <th>tipovivi_fully paid</th>\n",
       "      <th>tipovivi_other</th>\n",
       "      <th>tipovivi_own</th>\n",
       "      <th>tipovivi_rented</th>\n",
       "    </tr>\n",
       "  </thead>\n",
       "  <tbody>\n",
       "    <tr>\n",
       "      <th>0</th>\n",
       "      <td>ID_279628684</td>\n",
       "      <td>190000.0</td>\n",
       "      <td>0</td>\n",
       "      <td>3</td>\n",
       "      <td>0</td>\n",
       "      <td>1</td>\n",
       "      <td>1</td>\n",
       "      <td>0.0</td>\n",
       "      <td>1</td>\n",
       "      <td>10</td>\n",
       "      <td>...</td>\n",
       "      <td>1.0</td>\n",
       "      <td>0.0</td>\n",
       "      <td>0.0</td>\n",
       "      <td>1.0</td>\n",
       "      <td>0.0</td>\n",
       "      <td>0.0</td>\n",
       "      <td>0.0</td>\n",
       "      <td>0.0</td>\n",
       "      <td>0.0</td>\n",
       "      <td>1.0</td>\n",
       "    </tr>\n",
       "    <tr>\n",
       "      <th>1</th>\n",
       "      <td>ID_f29eb3ddd</td>\n",
       "      <td>135000.0</td>\n",
       "      <td>0</td>\n",
       "      <td>4</td>\n",
       "      <td>0</td>\n",
       "      <td>1</td>\n",
       "      <td>1</td>\n",
       "      <td>1.0</td>\n",
       "      <td>1</td>\n",
       "      <td>12</td>\n",
       "      <td>...</td>\n",
       "      <td>0.0</td>\n",
       "      <td>0.0</td>\n",
       "      <td>1.0</td>\n",
       "      <td>1.0</td>\n",
       "      <td>0.0</td>\n",
       "      <td>0.0</td>\n",
       "      <td>0.0</td>\n",
       "      <td>0.0</td>\n",
       "      <td>0.0</td>\n",
       "      <td>1.0</td>\n",
       "    </tr>\n",
       "    <tr>\n",
       "      <th>2</th>\n",
       "      <td>ID_68de51c94</td>\n",
       "      <td>0.0</td>\n",
       "      <td>0</td>\n",
       "      <td>8</td>\n",
       "      <td>0</td>\n",
       "      <td>1</td>\n",
       "      <td>1</td>\n",
       "      <td>0.0</td>\n",
       "      <td>1</td>\n",
       "      <td>11</td>\n",
       "      <td>...</td>\n",
       "      <td>1.0</td>\n",
       "      <td>0.0</td>\n",
       "      <td>0.0</td>\n",
       "      <td>1.0</td>\n",
       "      <td>0.0</td>\n",
       "      <td>0.0</td>\n",
       "      <td>1.0</td>\n",
       "      <td>0.0</td>\n",
       "      <td>0.0</td>\n",
       "      <td>0.0</td>\n",
       "    </tr>\n",
       "    <tr>\n",
       "      <th>3</th>\n",
       "      <td>ID_d671db89c</td>\n",
       "      <td>180000.0</td>\n",
       "      <td>0</td>\n",
       "      <td>5</td>\n",
       "      <td>0</td>\n",
       "      <td>1</td>\n",
       "      <td>1</td>\n",
       "      <td>1.0</td>\n",
       "      <td>4</td>\n",
       "      <td>9</td>\n",
       "      <td>...</td>\n",
       "      <td>1.0</td>\n",
       "      <td>0.0</td>\n",
       "      <td>0.0</td>\n",
       "      <td>1.0</td>\n",
       "      <td>0.0</td>\n",
       "      <td>0.0</td>\n",
       "      <td>0.0</td>\n",
       "      <td>0.0</td>\n",
       "      <td>0.0</td>\n",
       "      <td>1.0</td>\n",
       "    </tr>\n",
       "    <tr>\n",
       "      <th>4</th>\n",
       "      <td>ID_d56d6f5f5</td>\n",
       "      <td>180000.0</td>\n",
       "      <td>0</td>\n",
       "      <td>5</td>\n",
       "      <td>0</td>\n",
       "      <td>1</td>\n",
       "      <td>1</td>\n",
       "      <td>1.0</td>\n",
       "      <td>4</td>\n",
       "      <td>11</td>\n",
       "      <td>...</td>\n",
       "      <td>1.0</td>\n",
       "      <td>0.0</td>\n",
       "      <td>0.0</td>\n",
       "      <td>1.0</td>\n",
       "      <td>0.0</td>\n",
       "      <td>0.0</td>\n",
       "      <td>0.0</td>\n",
       "      <td>0.0</td>\n",
       "      <td>0.0</td>\n",
       "      <td>1.0</td>\n",
       "    </tr>\n",
       "  </tbody>\n",
       "</table>\n",
       "<p>5 rows × 88 columns</p>\n",
       "</div>"
      ],
      "text/plain": [
       "             Id      v2a1  hacdor  rooms  hacapo  v14a  refrig  v18q1  r4t3  \\\n",
       "0  ID_279628684  190000.0       0      3       0     1       1    0.0     1   \n",
       "1  ID_f29eb3ddd  135000.0       0      4       0     1       1    1.0     1   \n",
       "2  ID_68de51c94       0.0       0      8       0     1       1    0.0     1   \n",
       "3  ID_d671db89c  180000.0       0      5       0     1       1    1.0     4   \n",
       "4  ID_d56d6f5f5  180000.0       0      5       0     1       1    1.0     4   \n",
       "\n",
       "   escolari  ...  piso_material_mosaic,  ceramic,  terrazo  \\\n",
       "0        10  ...                                       1.0   \n",
       "1        12  ...                                       0.0   \n",
       "2        11  ...                                       1.0   \n",
       "3         9  ...                                       1.0   \n",
       "4        11  ...                                       1.0   \n",
       "\n",
       "   piso_material_other  piso_material_wood  rubbish_disposal_1 tanker truck  \\\n",
       "0                  0.0                 0.0                              1.0   \n",
       "1                  0.0                 1.0                              1.0   \n",
       "2                  0.0                 0.0                              1.0   \n",
       "3                  0.0                 0.0                              1.0   \n",
       "4                  0.0                 0.0                              1.0   \n",
       "\n",
       "   rubbish_disposal_3 burning  rubbish_disposal_6 other  tipovivi_fully paid  \\\n",
       "0                         0.0                       0.0                  0.0   \n",
       "1                         0.0                       0.0                  0.0   \n",
       "2                         0.0                       0.0                  1.0   \n",
       "3                         0.0                       0.0                  0.0   \n",
       "4                         0.0                       0.0                  0.0   \n",
       "\n",
       "   tipovivi_other  tipovivi_own  tipovivi_rented  \n",
       "0             0.0           0.0              1.0  \n",
       "1             0.0           0.0              1.0  \n",
       "2             0.0           0.0              0.0  \n",
       "3             0.0           0.0              1.0  \n",
       "4             0.0           0.0              1.0  \n",
       "\n",
       "[5 rows x 88 columns]"
      ]
     },
     "execution_count": 128,
     "metadata": {},
     "output_type": "execute_result"
    }
   ],
   "source": [
    "# TODO: Need to write these\n",
    "cr_df.head()"
   ]
  },
  {
   "cell_type": "markdown",
   "metadata": {},
   "source": [
    "## 3 | Train-test split\n",
    "\n",
    "Collapse the dataset into the household-level and create training, validation, and test sets to train models."
   ]
  },
  {
   "cell_type": "code",
   "execution_count": 129,
   "metadata": {},
   "outputs": [],
   "source": [
    "# Collapse data to household-level \n",
    "cr_df = clean.collapse_df(cr_df)\n",
    "cr_df = clean.drop_indiv_vars(cr_df)"
   ]
  },
  {
   "cell_type": "code",
   "execution_count": 130,
   "metadata": {},
   "outputs": [
    {
     "name": "stdout",
     "output_type": "stream",
     "text": [
      "Training set prior to SMOTE: 2390\n",
      "Training set size after SMOTE: 5463\n",
      "Validation set size after SMOTE: 781\n",
      "Test set size prior to SMOTE 598\n",
      "Test set size after SMOTE: 1576\n"
     ]
    }
   ],
   "source": [
    "# Conduct split\n",
    "X_train, y_train, X_val, y_val, X_test, y_test = cr_pmt_split(cr_df)"
   ]
  },
  {
   "cell_type": "code",
   "execution_count": 131,
   "metadata": {},
   "outputs": [
    {
     "name": "stdout",
     "output_type": "stream",
     "text": [
      "Training set size prior to SMOTE (prior to CV): 2390\n",
      "Training set size after SMOTE (prior to CV): 6244\n",
      "Test set size prior to SMOTE 598\n",
      "Test set size after SMOTE: 1576\n"
     ]
    }
   ],
   "source": [
    "# Conduct split for CV\n",
    "X_train, y_train, X_test, y_test = cr_pmt_split(cr_df, cv = True)"
   ]
  },
  {
   "cell_type": "markdown",
   "metadata": {},
   "source": [
    "## 4 | Model tuning\n",
    "\n",
    "We tune 3 sets of models and store the various results in a list."
   ]
  },
  {
   "cell_type": "code",
   "execution_count": 168,
   "metadata": {},
   "outputs": [],
   "source": [
    "# Tune 3 sets of models\n",
    "rf = tuning.tune_sklearn_models(X_train, y_train, 'RandomForestClassifier')"
   ]
  },
  {
   "cell_type": "code",
   "execution_count": 156,
   "metadata": {},
   "outputs": [],
   "source": [
    "lm = tuning.tune_sklearn_models(X_train, y_train, 'LogisticRegression')"
   ]
  },
  {
   "cell_type": "code",
   "execution_count": 165,
   "metadata": {},
   "outputs": [],
   "source": [
    "knn = tuning.tune_sklearn_models(X_train, y_train, 'KNeighborsClassifier')"
   ]
  },
  {
   "cell_type": "code",
   "execution_count": 169,
   "metadata": {},
   "outputs": [
    {
     "name": "stdout",
     "output_type": "stream",
     "text": [
      "([{'criterion': 'gini', 'max_depth': None, 'max_samples': 0.25, 'min_samples_leaf': 1, 'n_estimators': 25}, {'criterion': 'gini', 'max_depth': None, 'max_samples': 0.25, 'min_samples_leaf': 1, 'n_estimators': 50}, {'criterion': 'gini', 'max_depth': None, 'max_samples': 0.25, 'min_samples_leaf': 1, 'n_estimators': 100}, {'criterion': 'gini', 'max_depth': None, 'max_samples': 0.25, 'min_samples_leaf': 5, 'n_estimators': 25}, {'criterion': 'gini', 'max_depth': None, 'max_samples': 0.25, 'min_samples_leaf': 5, 'n_estimators': 50}, {'criterion': 'gini', 'max_depth': None, 'max_samples': 0.25, 'min_samples_leaf': 5, 'n_estimators': 100}, {'criterion': 'gini', 'max_depth': None, 'max_samples': 0.25, 'min_samples_leaf': 10, 'n_estimators': 25}, {'criterion': 'gini', 'max_depth': None, 'max_samples': 0.25, 'min_samples_leaf': 10, 'n_estimators': 50}, {'criterion': 'gini', 'max_depth': None, 'max_samples': 0.25, 'min_samples_leaf': 10, 'n_estimators': 100}, {'criterion': 'gini', 'max_depth': None, 'max_samples': 0.5, 'min_samples_leaf': 1, 'n_estimators': 25}, {'criterion': 'gini', 'max_depth': None, 'max_samples': 0.5, 'min_samples_leaf': 1, 'n_estimators': 50}, {'criterion': 'gini', 'max_depth': None, 'max_samples': 0.5, 'min_samples_leaf': 1, 'n_estimators': 100}, {'criterion': 'gini', 'max_depth': None, 'max_samples': 0.5, 'min_samples_leaf': 5, 'n_estimators': 25}, {'criterion': 'gini', 'max_depth': None, 'max_samples': 0.5, 'min_samples_leaf': 5, 'n_estimators': 50}, {'criterion': 'gini', 'max_depth': None, 'max_samples': 0.5, 'min_samples_leaf': 5, 'n_estimators': 100}, {'criterion': 'gini', 'max_depth': None, 'max_samples': 0.5, 'min_samples_leaf': 10, 'n_estimators': 25}, {'criterion': 'gini', 'max_depth': None, 'max_samples': 0.5, 'min_samples_leaf': 10, 'n_estimators': 50}, {'criterion': 'gini', 'max_depth': None, 'max_samples': 0.5, 'min_samples_leaf': 10, 'n_estimators': 100}, {'criterion': 'gini', 'max_depth': None, 'max_samples': 0.75, 'min_samples_leaf': 1, 'n_estimators': 25}, {'criterion': 'gini', 'max_depth': None, 'max_samples': 0.75, 'min_samples_leaf': 1, 'n_estimators': 50}, {'criterion': 'gini', 'max_depth': None, 'max_samples': 0.75, 'min_samples_leaf': 1, 'n_estimators': 100}, {'criterion': 'gini', 'max_depth': None, 'max_samples': 0.75, 'min_samples_leaf': 5, 'n_estimators': 25}, {'criterion': 'gini', 'max_depth': None, 'max_samples': 0.75, 'min_samples_leaf': 5, 'n_estimators': 50}, {'criterion': 'gini', 'max_depth': None, 'max_samples': 0.75, 'min_samples_leaf': 5, 'n_estimators': 100}, {'criterion': 'gini', 'max_depth': None, 'max_samples': 0.75, 'min_samples_leaf': 10, 'n_estimators': 25}, {'criterion': 'gini', 'max_depth': None, 'max_samples': 0.75, 'min_samples_leaf': 10, 'n_estimators': 50}, {'criterion': 'gini', 'max_depth': None, 'max_samples': 0.75, 'min_samples_leaf': 10, 'n_estimators': 100}, {'criterion': 'gini', 'max_depth': 40, 'max_samples': 0.25, 'min_samples_leaf': 1, 'n_estimators': 25}, {'criterion': 'gini', 'max_depth': 40, 'max_samples': 0.25, 'min_samples_leaf': 1, 'n_estimators': 50}, {'criterion': 'gini', 'max_depth': 40, 'max_samples': 0.25, 'min_samples_leaf': 1, 'n_estimators': 100}, {'criterion': 'gini', 'max_depth': 40, 'max_samples': 0.25, 'min_samples_leaf': 5, 'n_estimators': 25}, {'criterion': 'gini', 'max_depth': 40, 'max_samples': 0.25, 'min_samples_leaf': 5, 'n_estimators': 50}, {'criterion': 'gini', 'max_depth': 40, 'max_samples': 0.25, 'min_samples_leaf': 5, 'n_estimators': 100}, {'criterion': 'gini', 'max_depth': 40, 'max_samples': 0.25, 'min_samples_leaf': 10, 'n_estimators': 25}, {'criterion': 'gini', 'max_depth': 40, 'max_samples': 0.25, 'min_samples_leaf': 10, 'n_estimators': 50}, {'criterion': 'gini', 'max_depth': 40, 'max_samples': 0.25, 'min_samples_leaf': 10, 'n_estimators': 100}, {'criterion': 'gini', 'max_depth': 40, 'max_samples': 0.5, 'min_samples_leaf': 1, 'n_estimators': 25}, {'criterion': 'gini', 'max_depth': 40, 'max_samples': 0.5, 'min_samples_leaf': 1, 'n_estimators': 50}, {'criterion': 'gini', 'max_depth': 40, 'max_samples': 0.5, 'min_samples_leaf': 1, 'n_estimators': 100}, {'criterion': 'gini', 'max_depth': 40, 'max_samples': 0.5, 'min_samples_leaf': 5, 'n_estimators': 25}, {'criterion': 'gini', 'max_depth': 40, 'max_samples': 0.5, 'min_samples_leaf': 5, 'n_estimators': 50}, {'criterion': 'gini', 'max_depth': 40, 'max_samples': 0.5, 'min_samples_leaf': 5, 'n_estimators': 100}, {'criterion': 'gini', 'max_depth': 40, 'max_samples': 0.5, 'min_samples_leaf': 10, 'n_estimators': 25}, {'criterion': 'gini', 'max_depth': 40, 'max_samples': 0.5, 'min_samples_leaf': 10, 'n_estimators': 50}, {'criterion': 'gini', 'max_depth': 40, 'max_samples': 0.5, 'min_samples_leaf': 10, 'n_estimators': 100}, {'criterion': 'gini', 'max_depth': 40, 'max_samples': 0.75, 'min_samples_leaf': 1, 'n_estimators': 25}, {'criterion': 'gini', 'max_depth': 40, 'max_samples': 0.75, 'min_samples_leaf': 1, 'n_estimators': 50}, {'criterion': 'gini', 'max_depth': 40, 'max_samples': 0.75, 'min_samples_leaf': 1, 'n_estimators': 100}, {'criterion': 'gini', 'max_depth': 40, 'max_samples': 0.75, 'min_samples_leaf': 5, 'n_estimators': 25}, {'criterion': 'gini', 'max_depth': 40, 'max_samples': 0.75, 'min_samples_leaf': 5, 'n_estimators': 50}, {'criterion': 'gini', 'max_depth': 40, 'max_samples': 0.75, 'min_samples_leaf': 5, 'n_estimators': 100}, {'criterion': 'gini', 'max_depth': 40, 'max_samples': 0.75, 'min_samples_leaf': 10, 'n_estimators': 25}, {'criterion': 'gini', 'max_depth': 40, 'max_samples': 0.75, 'min_samples_leaf': 10, 'n_estimators': 50}, {'criterion': 'gini', 'max_depth': 40, 'max_samples': 0.75, 'min_samples_leaf': 10, 'n_estimators': 100}, {'criterion': 'gini', 'max_depth': 20, 'max_samples': 0.25, 'min_samples_leaf': 1, 'n_estimators': 25}, {'criterion': 'gini', 'max_depth': 20, 'max_samples': 0.25, 'min_samples_leaf': 1, 'n_estimators': 50}, {'criterion': 'gini', 'max_depth': 20, 'max_samples': 0.25, 'min_samples_leaf': 1, 'n_estimators': 100}, {'criterion': 'gini', 'max_depth': 20, 'max_samples': 0.25, 'min_samples_leaf': 5, 'n_estimators': 25}, {'criterion': 'gini', 'max_depth': 20, 'max_samples': 0.25, 'min_samples_leaf': 5, 'n_estimators': 50}, {'criterion': 'gini', 'max_depth': 20, 'max_samples': 0.25, 'min_samples_leaf': 5, 'n_estimators': 100}, {'criterion': 'gini', 'max_depth': 20, 'max_samples': 0.25, 'min_samples_leaf': 10, 'n_estimators': 25}, {'criterion': 'gini', 'max_depth': 20, 'max_samples': 0.25, 'min_samples_leaf': 10, 'n_estimators': 50}, {'criterion': 'gini', 'max_depth': 20, 'max_samples': 0.25, 'min_samples_leaf': 10, 'n_estimators': 100}, {'criterion': 'gini', 'max_depth': 20, 'max_samples': 0.5, 'min_samples_leaf': 1, 'n_estimators': 25}, {'criterion': 'gini', 'max_depth': 20, 'max_samples': 0.5, 'min_samples_leaf': 1, 'n_estimators': 50}, {'criterion': 'gini', 'max_depth': 20, 'max_samples': 0.5, 'min_samples_leaf': 1, 'n_estimators': 100}, {'criterion': 'gini', 'max_depth': 20, 'max_samples': 0.5, 'min_samples_leaf': 5, 'n_estimators': 25}, {'criterion': 'gini', 'max_depth': 20, 'max_samples': 0.5, 'min_samples_leaf': 5, 'n_estimators': 50}, {'criterion': 'gini', 'max_depth': 20, 'max_samples': 0.5, 'min_samples_leaf': 5, 'n_estimators': 100}, {'criterion': 'gini', 'max_depth': 20, 'max_samples': 0.5, 'min_samples_leaf': 10, 'n_estimators': 25}, {'criterion': 'gini', 'max_depth': 20, 'max_samples': 0.5, 'min_samples_leaf': 10, 'n_estimators': 50}, {'criterion': 'gini', 'max_depth': 20, 'max_samples': 0.5, 'min_samples_leaf': 10, 'n_estimators': 100}, {'criterion': 'gini', 'max_depth': 20, 'max_samples': 0.75, 'min_samples_leaf': 1, 'n_estimators': 25}, {'criterion': 'gini', 'max_depth': 20, 'max_samples': 0.75, 'min_samples_leaf': 1, 'n_estimators': 50}, {'criterion': 'gini', 'max_depth': 20, 'max_samples': 0.75, 'min_samples_leaf': 1, 'n_estimators': 100}, {'criterion': 'gini', 'max_depth': 20, 'max_samples': 0.75, 'min_samples_leaf': 5, 'n_estimators': 25}, {'criterion': 'gini', 'max_depth': 20, 'max_samples': 0.75, 'min_samples_leaf': 5, 'n_estimators': 50}, {'criterion': 'gini', 'max_depth': 20, 'max_samples': 0.75, 'min_samples_leaf': 5, 'n_estimators': 100}, {'criterion': 'gini', 'max_depth': 20, 'max_samples': 0.75, 'min_samples_leaf': 10, 'n_estimators': 25}, {'criterion': 'gini', 'max_depth': 20, 'max_samples': 0.75, 'min_samples_leaf': 10, 'n_estimators': 50}, {'criterion': 'gini', 'max_depth': 20, 'max_samples': 0.75, 'min_samples_leaf': 10, 'n_estimators': 100}, {'criterion': 'gini', 'max_depth': 5, 'max_samples': 0.25, 'min_samples_leaf': 1, 'n_estimators': 25}, {'criterion': 'gini', 'max_depth': 5, 'max_samples': 0.25, 'min_samples_leaf': 1, 'n_estimators': 50}, {'criterion': 'gini', 'max_depth': 5, 'max_samples': 0.25, 'min_samples_leaf': 1, 'n_estimators': 100}, {'criterion': 'gini', 'max_depth': 5, 'max_samples': 0.25, 'min_samples_leaf': 5, 'n_estimators': 25}, {'criterion': 'gini', 'max_depth': 5, 'max_samples': 0.25, 'min_samples_leaf': 5, 'n_estimators': 50}, {'criterion': 'gini', 'max_depth': 5, 'max_samples': 0.25, 'min_samples_leaf': 5, 'n_estimators': 100}, {'criterion': 'gini', 'max_depth': 5, 'max_samples': 0.25, 'min_samples_leaf': 10, 'n_estimators': 25}, {'criterion': 'gini', 'max_depth': 5, 'max_samples': 0.25, 'min_samples_leaf': 10, 'n_estimators': 50}, {'criterion': 'gini', 'max_depth': 5, 'max_samples': 0.25, 'min_samples_leaf': 10, 'n_estimators': 100}, {'criterion': 'gini', 'max_depth': 5, 'max_samples': 0.5, 'min_samples_leaf': 1, 'n_estimators': 25}, {'criterion': 'gini', 'max_depth': 5, 'max_samples': 0.5, 'min_samples_leaf': 1, 'n_estimators': 50}, {'criterion': 'gini', 'max_depth': 5, 'max_samples': 0.5, 'min_samples_leaf': 1, 'n_estimators': 100}, {'criterion': 'gini', 'max_depth': 5, 'max_samples': 0.5, 'min_samples_leaf': 5, 'n_estimators': 25}, {'criterion': 'gini', 'max_depth': 5, 'max_samples': 0.5, 'min_samples_leaf': 5, 'n_estimators': 50}, {'criterion': 'gini', 'max_depth': 5, 'max_samples': 0.5, 'min_samples_leaf': 5, 'n_estimators': 100}, {'criterion': 'gini', 'max_depth': 5, 'max_samples': 0.5, 'min_samples_leaf': 10, 'n_estimators': 25}, {'criterion': 'gini', 'max_depth': 5, 'max_samples': 0.5, 'min_samples_leaf': 10, 'n_estimators': 50}, {'criterion': 'gini', 'max_depth': 5, 'max_samples': 0.5, 'min_samples_leaf': 10, 'n_estimators': 100}, {'criterion': 'gini', 'max_depth': 5, 'max_samples': 0.75, 'min_samples_leaf': 1, 'n_estimators': 25}, {'criterion': 'gini', 'max_depth': 5, 'max_samples': 0.75, 'min_samples_leaf': 1, 'n_estimators': 50}, {'criterion': 'gini', 'max_depth': 5, 'max_samples': 0.75, 'min_samples_leaf': 1, 'n_estimators': 100}, {'criterion': 'gini', 'max_depth': 5, 'max_samples': 0.75, 'min_samples_leaf': 5, 'n_estimators': 25}, {'criterion': 'gini', 'max_depth': 5, 'max_samples': 0.75, 'min_samples_leaf': 5, 'n_estimators': 50}, {'criterion': 'gini', 'max_depth': 5, 'max_samples': 0.75, 'min_samples_leaf': 5, 'n_estimators': 100}, {'criterion': 'gini', 'max_depth': 5, 'max_samples': 0.75, 'min_samples_leaf': 10, 'n_estimators': 25}, {'criterion': 'gini', 'max_depth': 5, 'max_samples': 0.75, 'min_samples_leaf': 10, 'n_estimators': 50}, {'criterion': 'gini', 'max_depth': 5, 'max_samples': 0.75, 'min_samples_leaf': 10, 'n_estimators': 100}], array([0.76811059, 0.79697113, 0.80915606, 0.68449203, 0.7167798 ,\n",
      "       0.72464844, 0.63581627, 0.64976326, 0.66638828, 0.80604571,\n",
      "       0.8348359 , 0.8436147 , 0.74841328, 0.74913143, 0.76381194,\n",
      "       0.7002176 , 0.70209182, 0.71581987, 0.82707984, 0.84683957,\n",
      "       0.85680158, 0.76388637, 0.77565307, 0.7903751 , 0.72533064,\n",
      "       0.73010503, 0.73395329, 0.7683772 , 0.79210649, 0.81043475,\n",
      "       0.6932466 , 0.7091349 , 0.72073242, 0.63145453, 0.65632259,\n",
      "       0.66656911, 0.81110289, 0.82523808, 0.84603078, 0.73916458,\n",
      "       0.75671699, 0.76763953, 0.68653609, 0.70425135, 0.71426919,\n",
      "       0.826695  , 0.84247671, 0.85022218, 0.76605474, 0.77715841,\n",
      "       0.78839621, 0.71996246, 0.73289876, 0.73563879, 0.76794477,\n",
      "       0.80024467, 0.80348784, 0.69091881, 0.70752953, 0.71663705,\n",
      "       0.63617691, 0.64617511, 0.66045944, 0.81348807, 0.82991927,\n",
      "       0.84223308, 0.74122033, 0.761437  , 0.76334708, 0.68863954,\n",
      "       0.70660813, 0.71528971, 0.83054744, 0.83770134, 0.84897126,\n",
      "       0.76684308, 0.77741077, 0.78980726, 0.72219875, 0.73714558,\n",
      "       0.73881559, 0.55816656, 0.56304455, 0.57559383, 0.54991782,\n",
      "       0.56171314, 0.56841355, 0.54057952, 0.54661354, 0.556047  ,\n",
      "       0.55932671, 0.57023909, 0.58233307, 0.54107472, 0.56439968,\n",
      "       0.57750168, 0.54383194, 0.55413812, 0.57288878, 0.55030684,\n",
      "       0.57358767, 0.58156855, 0.55438836, 0.5650682 , 0.58210651,\n",
      "       0.55327112, 0.56274245, 0.5729827 ]), 20)\n",
      "{'criterion': 'gini', 'max_depth': None, 'max_samples': 0.75, 'min_samples_leaf': 1, 'n_estimators': 100}\n",
      "([{'C': 100, 'penalty': 'l1'}, {'C': 100, 'penalty': 'l2'}, {'C': 10, 'penalty': 'l1'}, {'C': 10, 'penalty': 'l2'}, {'C': 1.0, 'penalty': 'l1'}, {'C': 1.0, 'penalty': 'l2'}, {'C': 0.1, 'penalty': 'l1'}, {'C': 0.1, 'penalty': 'l2'}, {'C': 0.01, 'penalty': 'l1'}, {'C': 0.01, 'penalty': 'l2'}, {'C': 0.001, 'penalty': 'l1'}, {'C': 0.001, 'penalty': 'l2'}, {'C': 0.0001, 'penalty': 'l1'}, {'C': 0.0001, 'penalty': 'l2'}, {'C': 0.0001, 'penalty': 'l1'}, {'C': 0.0001, 'penalty': 'l2'}], array([0.55087308, 0.44924354, 0.55183417, 0.44772226, 0.54546477,\n",
      "       0.44446576, 0.53449888, 0.45271913, 0.4312128 , 0.43542191,\n",
      "       0.22744145, 0.40068178, 0.18649184, 0.32526118, 0.1864979 ,\n",
      "       0.32526118]), 2)\n",
      "{'C': 10, 'penalty': 'l1'}\n",
      "([{'n_neighbors': 3}, {'n_neighbors': 5}, {'n_neighbors': 10}, {'n_neighbors': 25}, {'n_neighbors': 50}, {'n_neighbors': 100}], array([0.80286194, 0.78374297, 0.75067576, 0.66694331, 0.58256432,\n",
      "       0.49431949]), 0)\n",
      "{'n_neighbors': 3}\n"
     ]
    }
   ],
   "source": [
    "# Storing MR trained CV values and then the best parameters as comments\n",
    "print(rf)\n",
    "print(rf[0][rf[2]]) # {'criterion': 'gini', 'max_depth': None, 'max_samples': 0.75, 'min_samples_leaf': 1, 'n_estimators': 100} \n",
    "print(lm)\n",
    "print(lm[0][lm[2]]) # {'C': 10, 'penalty': 'l1'}\n",
    "print(knn)\n",
    "print(knn[0][knn[2]]) # {'leaf_size': 3} MR is skeptical this isn't overfit"
   ]
  },
  {
   "cell_type": "code",
   "execution_count": null,
   "metadata": {},
   "outputs": [],
   "source": [
    "#Confusion matrix for Random Forest\n",
    "model = rf[3]\n",
    "tuning.visualize_acc(model, X_test, y_test)"
   ]
  },
  {
   "cell_type": "code",
   "execution_count": null,
   "metadata": {},
   "outputs": [],
   "source": [
    "#Confusion matrix for Logistic Regression\n",
    "model = lm[3]\n",
    "tuning.visualize_acc(model, X_test, y_test)"
   ]
  },
  {
   "cell_type": "code",
   "execution_count": null,
   "metadata": {},
   "outputs": [],
   "source": [
    "#Confusion matrix for KNN\n",
    "model = knn[3]\n",
    "tuning.visualize_acc(model, X_test, y_test)"
   ]
  },
  {
   "cell_type": "code",
   "execution_count": null,
   "metadata": {},
   "outputs": [],
   "source": [
    "#ROC curve and AUC score for Random Forest\n",
    "model = rf[3]\n",
    "tuning.plot_roc_auc(model, X_test, y_test)"
   ]
  },
  {
   "cell_type": "code",
   "execution_count": null,
   "metadata": {},
   "outputs": [],
   "source": [
    "#ROC curve and AUC score for Logistic Regression\n",
    "model = lm[3]\n",
    "tuning.plot_roc_auc(model, X_test, y_test)"
   ]
  },
  {
   "cell_type": "code",
   "execution_count": null,
   "metadata": {},
   "outputs": [],
   "source": [
    "#ROC curve and AUC score for KNN\n",
    "model = knn[3]\n",
    "tuning.plot_roc_auc(model, X_test, y_test)"
   ]
  }
 ],
 "metadata": {
  "kernelspec": {
   "display_name": "costa_rica_proxy_means_test-oy7JmmkA-py3.12",
   "language": "python",
   "name": "python3"
  },
  "language_info": {
   "codemirror_mode": {
    "name": "ipython",
    "version": 3
   },
   "file_extension": ".py",
   "mimetype": "text/x-python",
   "name": "python",
   "nbconvert_exporter": "python",
   "pygments_lexer": "ipython3",
   "version": "3.12.1"
  }
 },
 "nbformat": 4,
 "nbformat_minor": 2
}
