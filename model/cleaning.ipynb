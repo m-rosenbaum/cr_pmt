{
 "cells": [
  {
   "cell_type": "markdown",
   "metadata": {},
   "source": [
    "# Data cleaning and dataset creation"
   ]
  },
  {
   "cell_type": "markdown",
   "metadata": {
    "vscode": {
     "languageId": "plaintext"
    }
   },
   "source": [
    "## Imports"
   ]
  },
  {
   "cell_type": "code",
   "execution_count": 117,
   "metadata": {},
   "outputs": [
    {
     "name": "stdout",
     "output_type": "stream",
     "text": [
      "The autoreload extension is already loaded. To reload it, use:\n",
      "  %reload_ext autoreload\n"
     ]
    }
   ],
   "source": [
    "# Internal functions\n",
    "import clean\n",
    "from split import cr_pmt_split\n",
    "\n",
    "%load_ext autoreload\n",
    "%autoreload 2"
   ]
  },
  {
   "cell_type": "markdown",
   "metadata": {},
   "source": [
    "## Data imports and cleaning\n",
    "\n",
    "First, load the data and remove extraneous variables. Then, collapse categories at the respondent-level. Finally, move to collapse categories. "
   ]
  },
  {
   "cell_type": "code",
   "execution_count": 118,
   "metadata": {},
   "outputs": [],
   "source": [
    "# Import data\n",
    "cr_df = clean.load_data(\"train.csv\")"
   ]
  },
  {
   "cell_type": "code",
   "execution_count": 119,
   "metadata": {},
   "outputs": [],
   "source": [
    "# Adjust missing values\n",
    "cr_df = clean.handle_missing(cr_df)\n",
    "\n",
    "# Collapse individual-level categories\n",
    "cr_df = clean.clean_educ_cats(cr_df)\n",
    "cr_df = clean.clean_marital_cats(cr_df)\n",
    "cr_df = clean.clean_hhh_rel_cats(cr_df)\n",
    "\n",
    "# Collapse household-level response categories\n",
    "cr_df = clean.clean_pared_material_cats(cr_df)\n",
    "cr_df = clean.clean_piso_material_cats(cr_df)\n",
    "cr_df = clean.clean_sanitario_cats(cr_df)\n",
    "cr_df = clean.clean_tipovivi_cats(cr_df)"
   ]
  },
  {
   "cell_type": "markdown",
   "metadata": {},
   "source": [
    "## 2 | Feature engineering\n",
    "\n",
    "This section creates features used in the analysis."
   ]
  },
  {
   "cell_type": "code",
   "execution_count": 120,
   "metadata": {},
   "outputs": [
    {
     "data": {
      "text/html": [
       "<div>\n",
       "<style scoped>\n",
       "    .dataframe tbody tr th:only-of-type {\n",
       "        vertical-align: middle;\n",
       "    }\n",
       "\n",
       "    .dataframe tbody tr th {\n",
       "        vertical-align: top;\n",
       "    }\n",
       "\n",
       "    .dataframe thead th {\n",
       "        text-align: right;\n",
       "    }\n",
       "</style>\n",
       "<table border=\"1\" class=\"dataframe\">\n",
       "  <thead>\n",
       "    <tr style=\"text-align: right;\">\n",
       "      <th></th>\n",
       "      <th>Id</th>\n",
       "      <th>v2a1</th>\n",
       "      <th>hacdor</th>\n",
       "      <th>rooms</th>\n",
       "      <th>hacapo</th>\n",
       "      <th>v14a</th>\n",
       "      <th>refrig</th>\n",
       "      <th>v18q1</th>\n",
       "      <th>r4t3</th>\n",
       "      <th>escolari</th>\n",
       "      <th>...</th>\n",
       "      <th>piso_material_mosaic,  ceramic,  terrazo</th>\n",
       "      <th>piso_material_other</th>\n",
       "      <th>piso_material_wood</th>\n",
       "      <th>rubbish_disposal_1 tanker truck</th>\n",
       "      <th>rubbish_disposal_3 burning</th>\n",
       "      <th>rubbish_disposal_6 other</th>\n",
       "      <th>tipovivi_fully paid</th>\n",
       "      <th>tipovivi_other</th>\n",
       "      <th>tipovivi_own</th>\n",
       "      <th>tipovivi_rented</th>\n",
       "    </tr>\n",
       "  </thead>\n",
       "  <tbody>\n",
       "    <tr>\n",
       "      <th>0</th>\n",
       "      <td>ID_279628684</td>\n",
       "      <td>190000.0</td>\n",
       "      <td>0</td>\n",
       "      <td>3</td>\n",
       "      <td>0</td>\n",
       "      <td>1</td>\n",
       "      <td>1</td>\n",
       "      <td>0.0</td>\n",
       "      <td>1</td>\n",
       "      <td>10</td>\n",
       "      <td>...</td>\n",
       "      <td>1.0</td>\n",
       "      <td>0.0</td>\n",
       "      <td>0.0</td>\n",
       "      <td>1.0</td>\n",
       "      <td>0.0</td>\n",
       "      <td>0.0</td>\n",
       "      <td>0.0</td>\n",
       "      <td>0.0</td>\n",
       "      <td>0.0</td>\n",
       "      <td>1.0</td>\n",
       "    </tr>\n",
       "    <tr>\n",
       "      <th>1</th>\n",
       "      <td>ID_f29eb3ddd</td>\n",
       "      <td>135000.0</td>\n",
       "      <td>0</td>\n",
       "      <td>4</td>\n",
       "      <td>0</td>\n",
       "      <td>1</td>\n",
       "      <td>1</td>\n",
       "      <td>1.0</td>\n",
       "      <td>1</td>\n",
       "      <td>12</td>\n",
       "      <td>...</td>\n",
       "      <td>0.0</td>\n",
       "      <td>0.0</td>\n",
       "      <td>1.0</td>\n",
       "      <td>1.0</td>\n",
       "      <td>0.0</td>\n",
       "      <td>0.0</td>\n",
       "      <td>0.0</td>\n",
       "      <td>0.0</td>\n",
       "      <td>0.0</td>\n",
       "      <td>1.0</td>\n",
       "    </tr>\n",
       "    <tr>\n",
       "      <th>2</th>\n",
       "      <td>ID_68de51c94</td>\n",
       "      <td>0.0</td>\n",
       "      <td>0</td>\n",
       "      <td>8</td>\n",
       "      <td>0</td>\n",
       "      <td>1</td>\n",
       "      <td>1</td>\n",
       "      <td>0.0</td>\n",
       "      <td>1</td>\n",
       "      <td>11</td>\n",
       "      <td>...</td>\n",
       "      <td>1.0</td>\n",
       "      <td>0.0</td>\n",
       "      <td>0.0</td>\n",
       "      <td>1.0</td>\n",
       "      <td>0.0</td>\n",
       "      <td>0.0</td>\n",
       "      <td>1.0</td>\n",
       "      <td>0.0</td>\n",
       "      <td>0.0</td>\n",
       "      <td>0.0</td>\n",
       "    </tr>\n",
       "    <tr>\n",
       "      <th>3</th>\n",
       "      <td>ID_d671db89c</td>\n",
       "      <td>180000.0</td>\n",
       "      <td>0</td>\n",
       "      <td>5</td>\n",
       "      <td>0</td>\n",
       "      <td>1</td>\n",
       "      <td>1</td>\n",
       "      <td>1.0</td>\n",
       "      <td>4</td>\n",
       "      <td>9</td>\n",
       "      <td>...</td>\n",
       "      <td>1.0</td>\n",
       "      <td>0.0</td>\n",
       "      <td>0.0</td>\n",
       "      <td>1.0</td>\n",
       "      <td>0.0</td>\n",
       "      <td>0.0</td>\n",
       "      <td>0.0</td>\n",
       "      <td>0.0</td>\n",
       "      <td>0.0</td>\n",
       "      <td>1.0</td>\n",
       "    </tr>\n",
       "    <tr>\n",
       "      <th>4</th>\n",
       "      <td>ID_d56d6f5f5</td>\n",
       "      <td>180000.0</td>\n",
       "      <td>0</td>\n",
       "      <td>5</td>\n",
       "      <td>0</td>\n",
       "      <td>1</td>\n",
       "      <td>1</td>\n",
       "      <td>1.0</td>\n",
       "      <td>4</td>\n",
       "      <td>11</td>\n",
       "      <td>...</td>\n",
       "      <td>1.0</td>\n",
       "      <td>0.0</td>\n",
       "      <td>0.0</td>\n",
       "      <td>1.0</td>\n",
       "      <td>0.0</td>\n",
       "      <td>0.0</td>\n",
       "      <td>0.0</td>\n",
       "      <td>0.0</td>\n",
       "      <td>0.0</td>\n",
       "      <td>1.0</td>\n",
       "    </tr>\n",
       "  </tbody>\n",
       "</table>\n",
       "<p>5 rows × 88 columns</p>\n",
       "</div>"
      ],
      "text/plain": [
       "             Id      v2a1  hacdor  rooms  hacapo  v14a  refrig  v18q1  r4t3  \\\n",
       "0  ID_279628684  190000.0       0      3       0     1       1    0.0     1   \n",
       "1  ID_f29eb3ddd  135000.0       0      4       0     1       1    1.0     1   \n",
       "2  ID_68de51c94       0.0       0      8       0     1       1    0.0     1   \n",
       "3  ID_d671db89c  180000.0       0      5       0     1       1    1.0     4   \n",
       "4  ID_d56d6f5f5  180000.0       0      5       0     1       1    1.0     4   \n",
       "\n",
       "   escolari  ...  piso_material_mosaic,  ceramic,  terrazo  \\\n",
       "0        10  ...                                       1.0   \n",
       "1        12  ...                                       0.0   \n",
       "2        11  ...                                       1.0   \n",
       "3         9  ...                                       1.0   \n",
       "4        11  ...                                       1.0   \n",
       "\n",
       "   piso_material_other  piso_material_wood  rubbish_disposal_1 tanker truck  \\\n",
       "0                  0.0                 0.0                              1.0   \n",
       "1                  0.0                 1.0                              1.0   \n",
       "2                  0.0                 0.0                              1.0   \n",
       "3                  0.0                 0.0                              1.0   \n",
       "4                  0.0                 0.0                              1.0   \n",
       "\n",
       "   rubbish_disposal_3 burning  rubbish_disposal_6 other  tipovivi_fully paid  \\\n",
       "0                         0.0                       0.0                  0.0   \n",
       "1                         0.0                       0.0                  0.0   \n",
       "2                         0.0                       0.0                  1.0   \n",
       "3                         0.0                       0.0                  0.0   \n",
       "4                         0.0                       0.0                  0.0   \n",
       "\n",
       "   tipovivi_other  tipovivi_own  tipovivi_rented  \n",
       "0             0.0           0.0              1.0  \n",
       "1             0.0           0.0              1.0  \n",
       "2             0.0           0.0              0.0  \n",
       "3             0.0           0.0              1.0  \n",
       "4             0.0           0.0              1.0  \n",
       "\n",
       "[5 rows x 88 columns]"
      ]
     },
     "execution_count": 120,
     "metadata": {},
     "output_type": "execute_result"
    }
   ],
   "source": [
    "# TODO: Need to write these\n",
    "cr_df.head()"
   ]
  },
  {
   "cell_type": "markdown",
   "metadata": {},
   "source": [
    "## 3 | Train-test split\n",
    "\n",
    "Collapse the dataset into the household-level and create training, validation, and test sets to train models."
   ]
  },
  {
   "cell_type": "code",
   "execution_count": 121,
   "metadata": {},
   "outputs": [],
   "source": [
    "# Collapse data to household-level \n",
    "cr_df = clean.collapse_df(cr_df)\n",
    "cr_df = clean.drop_indiv_vars(cr_df)"
   ]
  },
  {
   "cell_type": "code",
   "execution_count": 122,
   "metadata": {},
   "outputs": [
    {
     "name": "stdout",
     "output_type": "stream",
     "text": [
      "Training set prior to SMOTE: 2390\n",
      "Training set size after SMOTE: 5463\n",
      "Validation set size after SMOTE: 781\n",
      "Test set size prior to SMOTE 598\n",
      "Test set size after SMOTE: 1576\n"
     ]
    }
   ],
   "source": [
    "# Conduct split\n",
    "X_train, y_train, X_val, y_val, X_test, y_test = cr_pmt_split(cr_df)"
   ]
  },
  {
   "cell_type": "code",
   "execution_count": 123,
   "metadata": {},
   "outputs": [
    {
     "name": "stdout",
     "output_type": "stream",
     "text": [
      "Training set size prior to SMOTE (prior to CV): 2390\n",
      "Training set size after SMOTE (prior to CV): 6244\n",
      "Test set size: 1576\n"
     ]
    }
   ],
   "source": [
    "# Conduct split for CV\n",
    "X_train, y_train, X_test, y_test = cr_pmt_split(cr_df, cv = True)"
   ]
  },
  {
   "cell_type": "markdown",
   "metadata": {},
   "source": [
    "## 4 | Model tuning\n",
    "\n",
    "We tune 3 sets of models and store the various results in a list."
   ]
  },
  {
   "cell_type": "code",
   "execution_count": null,
   "metadata": {},
   "outputs": [],
   "source": [
    "# Tune 3 sets of models"
   ]
  }
 ],
 "metadata": {
  "kernelspec": {
   "display_name": "costa_rica_proxy_means_test-oy7JmmkA-py3.12",
   "language": "python",
   "name": "python3"
  },
  "language_info": {
   "codemirror_mode": {
    "name": "ipython",
    "version": 3
   },
   "file_extension": ".py",
   "mimetype": "text/x-python",
   "name": "python",
   "nbconvert_exporter": "python",
   "pygments_lexer": "ipython3",
   "version": "3.12.1"
  }
 },
 "nbformat": 4,
 "nbformat_minor": 2
}
