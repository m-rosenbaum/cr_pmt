{
 "cells": [
  {
   "cell_type": "markdown",
   "metadata": {},
   "source": [
    "# Data cleaning and dataset creation"
   ]
  },
  {
   "cell_type": "markdown",
   "metadata": {
    "vscode": {
     "languageId": "plaintext"
    }
   },
   "source": [
    "## Imports"
   ]
  },
  {
   "cell_type": "code",
   "execution_count": 176,
   "metadata": {},
   "outputs": [
    {
     "name": "stdout",
     "output_type": "stream",
     "text": [
      "The autoreload extension is already loaded. To reload it, use:\n",
      "  %reload_ext autoreload\n"
     ]
    }
   ],
   "source": [
    "# Internal functions\n",
    "import clean\n",
    "import tuning\n",
    "from split import cr_pmt_split\n",
    "\n",
    "%load_ext autoreload\n",
    "%autoreload 2"
   ]
  },
  {
   "cell_type": "markdown",
   "metadata": {},
   "source": [
    "## Data imports and cleaning\n",
    "\n",
    "First, load the data and remove extraneous variables. Then, collapse categories at the respondent-level. Finally, move to collapse categories. "
   ]
  },
  {
   "cell_type": "code",
   "execution_count": 177,
   "metadata": {},
   "outputs": [],
   "source": [
    "# Import data\n",
    "cr_df = clean.load_data(\"train.csv\")"
   ]
  },
  {
   "cell_type": "code",
   "execution_count": 178,
   "metadata": {},
   "outputs": [],
   "source": [
    "# Adjust missing values\n",
    "cr_df = clean.handle_missing(cr_df)\n",
    "\n",
    "# Collapse individual-level categories\n",
    "cr_df = clean.clean_educ_cats(cr_df)\n",
    "cr_df = clean.clean_marital_cats(cr_df)\n",
    "cr_df = clean.clean_hhh_rel_cats(cr_df)\n",
    "\n",
    "# Collapse household-level response categories\n",
    "cr_df = clean.clean_pared_material_cats(cr_df)\n",
    "cr_df = clean.clean_piso_material_cats(cr_df)\n",
    "cr_df = clean.clean_sanitario_cats(cr_df)\n",
    "cr_df = clean.clean_tipovivi_cats(cr_df)"
   ]
  },
  {
   "cell_type": "markdown",
   "metadata": {},
   "source": [
    "## 2 | Feature engineering\n",
    "\n",
    "This section creates features used in the analysis."
   ]
  },
  {
   "cell_type": "code",
   "execution_count": 179,
   "metadata": {},
   "outputs": [
    {
     "data": {
      "text/html": [
       "<div>\n",
       "<style scoped>\n",
       "    .dataframe tbody tr th:only-of-type {\n",
       "        vertical-align: middle;\n",
       "    }\n",
       "\n",
       "    .dataframe tbody tr th {\n",
       "        vertical-align: top;\n",
       "    }\n",
       "\n",
       "    .dataframe thead th {\n",
       "        text-align: right;\n",
       "    }\n",
       "</style>\n",
       "<table border=\"1\" class=\"dataframe\">\n",
       "  <thead>\n",
       "    <tr style=\"text-align: right;\">\n",
       "      <th></th>\n",
       "      <th>Id</th>\n",
       "      <th>v2a1</th>\n",
       "      <th>hacdor</th>\n",
       "      <th>rooms</th>\n",
       "      <th>hacapo</th>\n",
       "      <th>v14a</th>\n",
       "      <th>refrig</th>\n",
       "      <th>v18q1</th>\n",
       "      <th>r4t3</th>\n",
       "      <th>escolari</th>\n",
       "      <th>...</th>\n",
       "      <th>piso_material_mosaic,  ceramic,  terrazo</th>\n",
       "      <th>piso_material_other</th>\n",
       "      <th>piso_material_wood</th>\n",
       "      <th>rubbish_disposal_1 tanker truck</th>\n",
       "      <th>rubbish_disposal_3 burning</th>\n",
       "      <th>rubbish_disposal_6 other</th>\n",
       "      <th>tipovivi_fully paid</th>\n",
       "      <th>tipovivi_other</th>\n",
       "      <th>tipovivi_own</th>\n",
       "      <th>tipovivi_rented</th>\n",
       "    </tr>\n",
       "  </thead>\n",
       "  <tbody>\n",
       "    <tr>\n",
       "      <th>0</th>\n",
       "      <td>ID_279628684</td>\n",
       "      <td>190000.0</td>\n",
       "      <td>0</td>\n",
       "      <td>3</td>\n",
       "      <td>0</td>\n",
       "      <td>1</td>\n",
       "      <td>1</td>\n",
       "      <td>0.0</td>\n",
       "      <td>1</td>\n",
       "      <td>10</td>\n",
       "      <td>...</td>\n",
       "      <td>1.0</td>\n",
       "      <td>0.0</td>\n",
       "      <td>0.0</td>\n",
       "      <td>1.0</td>\n",
       "      <td>0.0</td>\n",
       "      <td>0.0</td>\n",
       "      <td>0.0</td>\n",
       "      <td>0.0</td>\n",
       "      <td>0.0</td>\n",
       "      <td>1.0</td>\n",
       "    </tr>\n",
       "    <tr>\n",
       "      <th>1</th>\n",
       "      <td>ID_f29eb3ddd</td>\n",
       "      <td>135000.0</td>\n",
       "      <td>0</td>\n",
       "      <td>4</td>\n",
       "      <td>0</td>\n",
       "      <td>1</td>\n",
       "      <td>1</td>\n",
       "      <td>1.0</td>\n",
       "      <td>1</td>\n",
       "      <td>12</td>\n",
       "      <td>...</td>\n",
       "      <td>0.0</td>\n",
       "      <td>0.0</td>\n",
       "      <td>1.0</td>\n",
       "      <td>1.0</td>\n",
       "      <td>0.0</td>\n",
       "      <td>0.0</td>\n",
       "      <td>0.0</td>\n",
       "      <td>0.0</td>\n",
       "      <td>0.0</td>\n",
       "      <td>1.0</td>\n",
       "    </tr>\n",
       "    <tr>\n",
       "      <th>2</th>\n",
       "      <td>ID_68de51c94</td>\n",
       "      <td>0.0</td>\n",
       "      <td>0</td>\n",
       "      <td>8</td>\n",
       "      <td>0</td>\n",
       "      <td>1</td>\n",
       "      <td>1</td>\n",
       "      <td>0.0</td>\n",
       "      <td>1</td>\n",
       "      <td>11</td>\n",
       "      <td>...</td>\n",
       "      <td>1.0</td>\n",
       "      <td>0.0</td>\n",
       "      <td>0.0</td>\n",
       "      <td>1.0</td>\n",
       "      <td>0.0</td>\n",
       "      <td>0.0</td>\n",
       "      <td>1.0</td>\n",
       "      <td>0.0</td>\n",
       "      <td>0.0</td>\n",
       "      <td>0.0</td>\n",
       "    </tr>\n",
       "    <tr>\n",
       "      <th>3</th>\n",
       "      <td>ID_d671db89c</td>\n",
       "      <td>180000.0</td>\n",
       "      <td>0</td>\n",
       "      <td>5</td>\n",
       "      <td>0</td>\n",
       "      <td>1</td>\n",
       "      <td>1</td>\n",
       "      <td>1.0</td>\n",
       "      <td>4</td>\n",
       "      <td>9</td>\n",
       "      <td>...</td>\n",
       "      <td>1.0</td>\n",
       "      <td>0.0</td>\n",
       "      <td>0.0</td>\n",
       "      <td>1.0</td>\n",
       "      <td>0.0</td>\n",
       "      <td>0.0</td>\n",
       "      <td>0.0</td>\n",
       "      <td>0.0</td>\n",
       "      <td>0.0</td>\n",
       "      <td>1.0</td>\n",
       "    </tr>\n",
       "    <tr>\n",
       "      <th>4</th>\n",
       "      <td>ID_d56d6f5f5</td>\n",
       "      <td>180000.0</td>\n",
       "      <td>0</td>\n",
       "      <td>5</td>\n",
       "      <td>0</td>\n",
       "      <td>1</td>\n",
       "      <td>1</td>\n",
       "      <td>1.0</td>\n",
       "      <td>4</td>\n",
       "      <td>11</td>\n",
       "      <td>...</td>\n",
       "      <td>1.0</td>\n",
       "      <td>0.0</td>\n",
       "      <td>0.0</td>\n",
       "      <td>1.0</td>\n",
       "      <td>0.0</td>\n",
       "      <td>0.0</td>\n",
       "      <td>0.0</td>\n",
       "      <td>0.0</td>\n",
       "      <td>0.0</td>\n",
       "      <td>1.0</td>\n",
       "    </tr>\n",
       "  </tbody>\n",
       "</table>\n",
       "<p>5 rows × 88 columns</p>\n",
       "</div>"
      ],
      "text/plain": [
       "             Id      v2a1  hacdor  rooms  hacapo  v14a  refrig  v18q1  r4t3  \\\n",
       "0  ID_279628684  190000.0       0      3       0     1       1    0.0     1   \n",
       "1  ID_f29eb3ddd  135000.0       0      4       0     1       1    1.0     1   \n",
       "2  ID_68de51c94       0.0       0      8       0     1       1    0.0     1   \n",
       "3  ID_d671db89c  180000.0       0      5       0     1       1    1.0     4   \n",
       "4  ID_d56d6f5f5  180000.0       0      5       0     1       1    1.0     4   \n",
       "\n",
       "   escolari  ...  piso_material_mosaic,  ceramic,  terrazo  \\\n",
       "0        10  ...                                       1.0   \n",
       "1        12  ...                                       0.0   \n",
       "2        11  ...                                       1.0   \n",
       "3         9  ...                                       1.0   \n",
       "4        11  ...                                       1.0   \n",
       "\n",
       "   piso_material_other  piso_material_wood  rubbish_disposal_1 tanker truck  \\\n",
       "0                  0.0                 0.0                              1.0   \n",
       "1                  0.0                 1.0                              1.0   \n",
       "2                  0.0                 0.0                              1.0   \n",
       "3                  0.0                 0.0                              1.0   \n",
       "4                  0.0                 0.0                              1.0   \n",
       "\n",
       "   rubbish_disposal_3 burning  rubbish_disposal_6 other  tipovivi_fully paid  \\\n",
       "0                         0.0                       0.0                  0.0   \n",
       "1                         0.0                       0.0                  0.0   \n",
       "2                         0.0                       0.0                  1.0   \n",
       "3                         0.0                       0.0                  0.0   \n",
       "4                         0.0                       0.0                  0.0   \n",
       "\n",
       "   tipovivi_other  tipovivi_own  tipovivi_rented  \n",
       "0             0.0           0.0              1.0  \n",
       "1             0.0           0.0              1.0  \n",
       "2             0.0           0.0              0.0  \n",
       "3             0.0           0.0              1.0  \n",
       "4             0.0           0.0              1.0  \n",
       "\n",
       "[5 rows x 88 columns]"
      ]
     },
     "execution_count": 179,
     "metadata": {},
     "output_type": "execute_result"
    }
   ],
   "source": [
    "# TODO: Need to write these\n",
    "cr_df.head()"
   ]
  },
  {
   "cell_type": "markdown",
   "metadata": {},
   "source": [
    "## 3 | Train-test split\n",
    "\n",
    "Collapse the dataset into the household-level and create training, validation, and test sets to train models."
   ]
  },
  {
   "cell_type": "code",
   "execution_count": 180,
   "metadata": {},
   "outputs": [],
   "source": [
    "# Collapse data to household-level \n",
    "cr_df = clean.collapse_df(cr_df)\n",
    "cr_df = clean.drop_indiv_vars(cr_df)"
   ]
  },
  {
   "cell_type": "code",
   "execution_count": 181,
   "metadata": {},
   "outputs": [
    {
     "name": "stdout",
     "output_type": "stream",
     "text": [
      "Training set prior to SMOTE: 2390\n",
      "Training set size after SMOTE: 5463\n",
      "Validation set size after SMOTE: 781\n",
      "Test set size: 598\n"
     ]
    }
   ],
   "source": [
    "# Conduct split\n",
    "X_train, y_train, X_val, y_val, X_test, y_test = cr_pmt_split(cr_df, seed = 42)"
   ]
  },
  {
   "cell_type": "code",
   "execution_count": 182,
   "metadata": {},
   "outputs": [
    {
     "name": "stdout",
     "output_type": "stream",
     "text": [
      "Training set size prior to SMOTE (prior to CV): 2390\n",
      "Training set size after SMOTE (prior to CV): 6244\n",
      "Test set size: 598\n"
     ]
    }
   ],
   "source": [
    "# Conduct split for CV\n",
    "X_train, y_train, X_test, y_test = cr_pmt_split(cr_df, cv = True, seed = 42)"
   ]
  },
  {
   "cell_type": "markdown",
   "metadata": {},
   "source": [
    "## 4 | Model tuning\n",
    "\n",
    "We tune 3 sets of models and store the various results in a list."
   ]
  },
  {
   "cell_type": "code",
   "execution_count": 183,
   "metadata": {},
   "outputs": [],
   "source": [
    "# Tune 3 sets of models\n",
    "rf = tuning.tune_sklearn_models(X_train, y_train, 'RandomForestClassifier')"
   ]
  },
  {
   "cell_type": "code",
   "execution_count": 184,
   "metadata": {},
   "outputs": [
    {
     "name": "stderr",
     "output_type": "stream",
     "text": [
      "c:\\Users\\micha\\AppData\\Local\\pypoetry\\Cache\\virtualenvs\\costa_rica_proxy_means_test-oy7JmmkA-py3.12\\Lib\\site-packages\\sklearn\\svm\\_base.py:1237: ConvergenceWarning: Liblinear failed to converge, increase the number of iterations.\n",
      "  warnings.warn(\n"
     ]
    }
   ],
   "source": [
    "lm = tuning.tune_sklearn_models(X_train, y_train, 'LogisticRegression')"
   ]
  },
  {
   "cell_type": "code",
   "execution_count": 185,
   "metadata": {},
   "outputs": [],
   "source": [
    "knn = tuning.tune_sklearn_models(X_train, y_train, 'KNeighborsClassifier')"
   ]
  },
  {
   "cell_type": "code",
   "execution_count": 186,
   "metadata": {},
   "outputs": [
    {
     "name": "stdout",
     "output_type": "stream",
     "text": [
      "([{'criterion': 'gini', 'max_depth': None, 'max_samples': 0.25, 'min_samples_leaf': 1, 'n_estimators': 25}, {'criterion': 'gini', 'max_depth': None, 'max_samples': 0.25, 'min_samples_leaf': 1, 'n_estimators': 50}, {'criterion': 'gini', 'max_depth': None, 'max_samples': 0.25, 'min_samples_leaf': 1, 'n_estimators': 100}, {'criterion': 'gini', 'max_depth': None, 'max_samples': 0.25, 'min_samples_leaf': 5, 'n_estimators': 25}, {'criterion': 'gini', 'max_depth': None, 'max_samples': 0.25, 'min_samples_leaf': 5, 'n_estimators': 50}, {'criterion': 'gini', 'max_depth': None, 'max_samples': 0.25, 'min_samples_leaf': 5, 'n_estimators': 100}, {'criterion': 'gini', 'max_depth': None, 'max_samples': 0.25, 'min_samples_leaf': 10, 'n_estimators': 25}, {'criterion': 'gini', 'max_depth': None, 'max_samples': 0.25, 'min_samples_leaf': 10, 'n_estimators': 50}, {'criterion': 'gini', 'max_depth': None, 'max_samples': 0.25, 'min_samples_leaf': 10, 'n_estimators': 100}, {'criterion': 'gini', 'max_depth': None, 'max_samples': 0.25, 'min_samples_leaf': 50, 'n_estimators': 25}, {'criterion': 'gini', 'max_depth': None, 'max_samples': 0.25, 'min_samples_leaf': 50, 'n_estimators': 50}, {'criterion': 'gini', 'max_depth': None, 'max_samples': 0.25, 'min_samples_leaf': 50, 'n_estimators': 100}, {'criterion': 'gini', 'max_depth': None, 'max_samples': 0.5, 'min_samples_leaf': 1, 'n_estimators': 25}, {'criterion': 'gini', 'max_depth': None, 'max_samples': 0.5, 'min_samples_leaf': 1, 'n_estimators': 50}, {'criterion': 'gini', 'max_depth': None, 'max_samples': 0.5, 'min_samples_leaf': 1, 'n_estimators': 100}, {'criterion': 'gini', 'max_depth': None, 'max_samples': 0.5, 'min_samples_leaf': 5, 'n_estimators': 25}, {'criterion': 'gini', 'max_depth': None, 'max_samples': 0.5, 'min_samples_leaf': 5, 'n_estimators': 50}, {'criterion': 'gini', 'max_depth': None, 'max_samples': 0.5, 'min_samples_leaf': 5, 'n_estimators': 100}, {'criterion': 'gini', 'max_depth': None, 'max_samples': 0.5, 'min_samples_leaf': 10, 'n_estimators': 25}, {'criterion': 'gini', 'max_depth': None, 'max_samples': 0.5, 'min_samples_leaf': 10, 'n_estimators': 50}, {'criterion': 'gini', 'max_depth': None, 'max_samples': 0.5, 'min_samples_leaf': 10, 'n_estimators': 100}, {'criterion': 'gini', 'max_depth': None, 'max_samples': 0.5, 'min_samples_leaf': 50, 'n_estimators': 25}, {'criterion': 'gini', 'max_depth': None, 'max_samples': 0.5, 'min_samples_leaf': 50, 'n_estimators': 50}, {'criterion': 'gini', 'max_depth': None, 'max_samples': 0.5, 'min_samples_leaf': 50, 'n_estimators': 100}, {'criterion': 'gini', 'max_depth': None, 'max_samples': 0.75, 'min_samples_leaf': 1, 'n_estimators': 25}, {'criterion': 'gini', 'max_depth': None, 'max_samples': 0.75, 'min_samples_leaf': 1, 'n_estimators': 50}, {'criterion': 'gini', 'max_depth': None, 'max_samples': 0.75, 'min_samples_leaf': 1, 'n_estimators': 100}, {'criterion': 'gini', 'max_depth': None, 'max_samples': 0.75, 'min_samples_leaf': 5, 'n_estimators': 25}, {'criterion': 'gini', 'max_depth': None, 'max_samples': 0.75, 'min_samples_leaf': 5, 'n_estimators': 50}, {'criterion': 'gini', 'max_depth': None, 'max_samples': 0.75, 'min_samples_leaf': 5, 'n_estimators': 100}, {'criterion': 'gini', 'max_depth': None, 'max_samples': 0.75, 'min_samples_leaf': 10, 'n_estimators': 25}, {'criterion': 'gini', 'max_depth': None, 'max_samples': 0.75, 'min_samples_leaf': 10, 'n_estimators': 50}, {'criterion': 'gini', 'max_depth': None, 'max_samples': 0.75, 'min_samples_leaf': 10, 'n_estimators': 100}, {'criterion': 'gini', 'max_depth': None, 'max_samples': 0.75, 'min_samples_leaf': 50, 'n_estimators': 25}, {'criterion': 'gini', 'max_depth': None, 'max_samples': 0.75, 'min_samples_leaf': 50, 'n_estimators': 50}, {'criterion': 'gini', 'max_depth': None, 'max_samples': 0.75, 'min_samples_leaf': 50, 'n_estimators': 100}, {'criterion': 'gini', 'max_depth': 40, 'max_samples': 0.25, 'min_samples_leaf': 1, 'n_estimators': 25}, {'criterion': 'gini', 'max_depth': 40, 'max_samples': 0.25, 'min_samples_leaf': 1, 'n_estimators': 50}, {'criterion': 'gini', 'max_depth': 40, 'max_samples': 0.25, 'min_samples_leaf': 1, 'n_estimators': 100}, {'criterion': 'gini', 'max_depth': 40, 'max_samples': 0.25, 'min_samples_leaf': 5, 'n_estimators': 25}, {'criterion': 'gini', 'max_depth': 40, 'max_samples': 0.25, 'min_samples_leaf': 5, 'n_estimators': 50}, {'criterion': 'gini', 'max_depth': 40, 'max_samples': 0.25, 'min_samples_leaf': 5, 'n_estimators': 100}, {'criterion': 'gini', 'max_depth': 40, 'max_samples': 0.25, 'min_samples_leaf': 10, 'n_estimators': 25}, {'criterion': 'gini', 'max_depth': 40, 'max_samples': 0.25, 'min_samples_leaf': 10, 'n_estimators': 50}, {'criterion': 'gini', 'max_depth': 40, 'max_samples': 0.25, 'min_samples_leaf': 10, 'n_estimators': 100}, {'criterion': 'gini', 'max_depth': 40, 'max_samples': 0.25, 'min_samples_leaf': 50, 'n_estimators': 25}, {'criterion': 'gini', 'max_depth': 40, 'max_samples': 0.25, 'min_samples_leaf': 50, 'n_estimators': 50}, {'criterion': 'gini', 'max_depth': 40, 'max_samples': 0.25, 'min_samples_leaf': 50, 'n_estimators': 100}, {'criterion': 'gini', 'max_depth': 40, 'max_samples': 0.5, 'min_samples_leaf': 1, 'n_estimators': 25}, {'criterion': 'gini', 'max_depth': 40, 'max_samples': 0.5, 'min_samples_leaf': 1, 'n_estimators': 50}, {'criterion': 'gini', 'max_depth': 40, 'max_samples': 0.5, 'min_samples_leaf': 1, 'n_estimators': 100}, {'criterion': 'gini', 'max_depth': 40, 'max_samples': 0.5, 'min_samples_leaf': 5, 'n_estimators': 25}, {'criterion': 'gini', 'max_depth': 40, 'max_samples': 0.5, 'min_samples_leaf': 5, 'n_estimators': 50}, {'criterion': 'gini', 'max_depth': 40, 'max_samples': 0.5, 'min_samples_leaf': 5, 'n_estimators': 100}, {'criterion': 'gini', 'max_depth': 40, 'max_samples': 0.5, 'min_samples_leaf': 10, 'n_estimators': 25}, {'criterion': 'gini', 'max_depth': 40, 'max_samples': 0.5, 'min_samples_leaf': 10, 'n_estimators': 50}, {'criterion': 'gini', 'max_depth': 40, 'max_samples': 0.5, 'min_samples_leaf': 10, 'n_estimators': 100}, {'criterion': 'gini', 'max_depth': 40, 'max_samples': 0.5, 'min_samples_leaf': 50, 'n_estimators': 25}, {'criterion': 'gini', 'max_depth': 40, 'max_samples': 0.5, 'min_samples_leaf': 50, 'n_estimators': 50}, {'criterion': 'gini', 'max_depth': 40, 'max_samples': 0.5, 'min_samples_leaf': 50, 'n_estimators': 100}, {'criterion': 'gini', 'max_depth': 40, 'max_samples': 0.75, 'min_samples_leaf': 1, 'n_estimators': 25}, {'criterion': 'gini', 'max_depth': 40, 'max_samples': 0.75, 'min_samples_leaf': 1, 'n_estimators': 50}, {'criterion': 'gini', 'max_depth': 40, 'max_samples': 0.75, 'min_samples_leaf': 1, 'n_estimators': 100}, {'criterion': 'gini', 'max_depth': 40, 'max_samples': 0.75, 'min_samples_leaf': 5, 'n_estimators': 25}, {'criterion': 'gini', 'max_depth': 40, 'max_samples': 0.75, 'min_samples_leaf': 5, 'n_estimators': 50}, {'criterion': 'gini', 'max_depth': 40, 'max_samples': 0.75, 'min_samples_leaf': 5, 'n_estimators': 100}, {'criterion': 'gini', 'max_depth': 40, 'max_samples': 0.75, 'min_samples_leaf': 10, 'n_estimators': 25}, {'criterion': 'gini', 'max_depth': 40, 'max_samples': 0.75, 'min_samples_leaf': 10, 'n_estimators': 50}, {'criterion': 'gini', 'max_depth': 40, 'max_samples': 0.75, 'min_samples_leaf': 10, 'n_estimators': 100}, {'criterion': 'gini', 'max_depth': 40, 'max_samples': 0.75, 'min_samples_leaf': 50, 'n_estimators': 25}, {'criterion': 'gini', 'max_depth': 40, 'max_samples': 0.75, 'min_samples_leaf': 50, 'n_estimators': 50}, {'criterion': 'gini', 'max_depth': 40, 'max_samples': 0.75, 'min_samples_leaf': 50, 'n_estimators': 100}, {'criterion': 'gini', 'max_depth': 20, 'max_samples': 0.25, 'min_samples_leaf': 1, 'n_estimators': 25}, {'criterion': 'gini', 'max_depth': 20, 'max_samples': 0.25, 'min_samples_leaf': 1, 'n_estimators': 50}, {'criterion': 'gini', 'max_depth': 20, 'max_samples': 0.25, 'min_samples_leaf': 1, 'n_estimators': 100}, {'criterion': 'gini', 'max_depth': 20, 'max_samples': 0.25, 'min_samples_leaf': 5, 'n_estimators': 25}, {'criterion': 'gini', 'max_depth': 20, 'max_samples': 0.25, 'min_samples_leaf': 5, 'n_estimators': 50}, {'criterion': 'gini', 'max_depth': 20, 'max_samples': 0.25, 'min_samples_leaf': 5, 'n_estimators': 100}, {'criterion': 'gini', 'max_depth': 20, 'max_samples': 0.25, 'min_samples_leaf': 10, 'n_estimators': 25}, {'criterion': 'gini', 'max_depth': 20, 'max_samples': 0.25, 'min_samples_leaf': 10, 'n_estimators': 50}, {'criterion': 'gini', 'max_depth': 20, 'max_samples': 0.25, 'min_samples_leaf': 10, 'n_estimators': 100}, {'criterion': 'gini', 'max_depth': 20, 'max_samples': 0.25, 'min_samples_leaf': 50, 'n_estimators': 25}, {'criterion': 'gini', 'max_depth': 20, 'max_samples': 0.25, 'min_samples_leaf': 50, 'n_estimators': 50}, {'criterion': 'gini', 'max_depth': 20, 'max_samples': 0.25, 'min_samples_leaf': 50, 'n_estimators': 100}, {'criterion': 'gini', 'max_depth': 20, 'max_samples': 0.5, 'min_samples_leaf': 1, 'n_estimators': 25}, {'criterion': 'gini', 'max_depth': 20, 'max_samples': 0.5, 'min_samples_leaf': 1, 'n_estimators': 50}, {'criterion': 'gini', 'max_depth': 20, 'max_samples': 0.5, 'min_samples_leaf': 1, 'n_estimators': 100}, {'criterion': 'gini', 'max_depth': 20, 'max_samples': 0.5, 'min_samples_leaf': 5, 'n_estimators': 25}, {'criterion': 'gini', 'max_depth': 20, 'max_samples': 0.5, 'min_samples_leaf': 5, 'n_estimators': 50}, {'criterion': 'gini', 'max_depth': 20, 'max_samples': 0.5, 'min_samples_leaf': 5, 'n_estimators': 100}, {'criterion': 'gini', 'max_depth': 20, 'max_samples': 0.5, 'min_samples_leaf': 10, 'n_estimators': 25}, {'criterion': 'gini', 'max_depth': 20, 'max_samples': 0.5, 'min_samples_leaf': 10, 'n_estimators': 50}, {'criterion': 'gini', 'max_depth': 20, 'max_samples': 0.5, 'min_samples_leaf': 10, 'n_estimators': 100}, {'criterion': 'gini', 'max_depth': 20, 'max_samples': 0.5, 'min_samples_leaf': 50, 'n_estimators': 25}, {'criterion': 'gini', 'max_depth': 20, 'max_samples': 0.5, 'min_samples_leaf': 50, 'n_estimators': 50}, {'criterion': 'gini', 'max_depth': 20, 'max_samples': 0.5, 'min_samples_leaf': 50, 'n_estimators': 100}, {'criterion': 'gini', 'max_depth': 20, 'max_samples': 0.75, 'min_samples_leaf': 1, 'n_estimators': 25}, {'criterion': 'gini', 'max_depth': 20, 'max_samples': 0.75, 'min_samples_leaf': 1, 'n_estimators': 50}, {'criterion': 'gini', 'max_depth': 20, 'max_samples': 0.75, 'min_samples_leaf': 1, 'n_estimators': 100}, {'criterion': 'gini', 'max_depth': 20, 'max_samples': 0.75, 'min_samples_leaf': 5, 'n_estimators': 25}, {'criterion': 'gini', 'max_depth': 20, 'max_samples': 0.75, 'min_samples_leaf': 5, 'n_estimators': 50}, {'criterion': 'gini', 'max_depth': 20, 'max_samples': 0.75, 'min_samples_leaf': 5, 'n_estimators': 100}, {'criterion': 'gini', 'max_depth': 20, 'max_samples': 0.75, 'min_samples_leaf': 10, 'n_estimators': 25}, {'criterion': 'gini', 'max_depth': 20, 'max_samples': 0.75, 'min_samples_leaf': 10, 'n_estimators': 50}, {'criterion': 'gini', 'max_depth': 20, 'max_samples': 0.75, 'min_samples_leaf': 10, 'n_estimators': 100}, {'criterion': 'gini', 'max_depth': 20, 'max_samples': 0.75, 'min_samples_leaf': 50, 'n_estimators': 25}, {'criterion': 'gini', 'max_depth': 20, 'max_samples': 0.75, 'min_samples_leaf': 50, 'n_estimators': 50}, {'criterion': 'gini', 'max_depth': 20, 'max_samples': 0.75, 'min_samples_leaf': 50, 'n_estimators': 100}, {'criterion': 'gini', 'max_depth': 5, 'max_samples': 0.25, 'min_samples_leaf': 1, 'n_estimators': 25}, {'criterion': 'gini', 'max_depth': 5, 'max_samples': 0.25, 'min_samples_leaf': 1, 'n_estimators': 50}, {'criterion': 'gini', 'max_depth': 5, 'max_samples': 0.25, 'min_samples_leaf': 1, 'n_estimators': 100}, {'criterion': 'gini', 'max_depth': 5, 'max_samples': 0.25, 'min_samples_leaf': 5, 'n_estimators': 25}, {'criterion': 'gini', 'max_depth': 5, 'max_samples': 0.25, 'min_samples_leaf': 5, 'n_estimators': 50}, {'criterion': 'gini', 'max_depth': 5, 'max_samples': 0.25, 'min_samples_leaf': 5, 'n_estimators': 100}, {'criterion': 'gini', 'max_depth': 5, 'max_samples': 0.25, 'min_samples_leaf': 10, 'n_estimators': 25}, {'criterion': 'gini', 'max_depth': 5, 'max_samples': 0.25, 'min_samples_leaf': 10, 'n_estimators': 50}, {'criterion': 'gini', 'max_depth': 5, 'max_samples': 0.25, 'min_samples_leaf': 10, 'n_estimators': 100}, {'criterion': 'gini', 'max_depth': 5, 'max_samples': 0.25, 'min_samples_leaf': 50, 'n_estimators': 25}, {'criterion': 'gini', 'max_depth': 5, 'max_samples': 0.25, 'min_samples_leaf': 50, 'n_estimators': 50}, {'criterion': 'gini', 'max_depth': 5, 'max_samples': 0.25, 'min_samples_leaf': 50, 'n_estimators': 100}, {'criterion': 'gini', 'max_depth': 5, 'max_samples': 0.5, 'min_samples_leaf': 1, 'n_estimators': 25}, {'criterion': 'gini', 'max_depth': 5, 'max_samples': 0.5, 'min_samples_leaf': 1, 'n_estimators': 50}, {'criterion': 'gini', 'max_depth': 5, 'max_samples': 0.5, 'min_samples_leaf': 1, 'n_estimators': 100}, {'criterion': 'gini', 'max_depth': 5, 'max_samples': 0.5, 'min_samples_leaf': 5, 'n_estimators': 25}, {'criterion': 'gini', 'max_depth': 5, 'max_samples': 0.5, 'min_samples_leaf': 5, 'n_estimators': 50}, {'criterion': 'gini', 'max_depth': 5, 'max_samples': 0.5, 'min_samples_leaf': 5, 'n_estimators': 100}, {'criterion': 'gini', 'max_depth': 5, 'max_samples': 0.5, 'min_samples_leaf': 10, 'n_estimators': 25}, {'criterion': 'gini', 'max_depth': 5, 'max_samples': 0.5, 'min_samples_leaf': 10, 'n_estimators': 50}, {'criterion': 'gini', 'max_depth': 5, 'max_samples': 0.5, 'min_samples_leaf': 10, 'n_estimators': 100}, {'criterion': 'gini', 'max_depth': 5, 'max_samples': 0.5, 'min_samples_leaf': 50, 'n_estimators': 25}, {'criterion': 'gini', 'max_depth': 5, 'max_samples': 0.5, 'min_samples_leaf': 50, 'n_estimators': 50}, {'criterion': 'gini', 'max_depth': 5, 'max_samples': 0.5, 'min_samples_leaf': 50, 'n_estimators': 100}, {'criterion': 'gini', 'max_depth': 5, 'max_samples': 0.75, 'min_samples_leaf': 1, 'n_estimators': 25}, {'criterion': 'gini', 'max_depth': 5, 'max_samples': 0.75, 'min_samples_leaf': 1, 'n_estimators': 50}, {'criterion': 'gini', 'max_depth': 5, 'max_samples': 0.75, 'min_samples_leaf': 1, 'n_estimators': 100}, {'criterion': 'gini', 'max_depth': 5, 'max_samples': 0.75, 'min_samples_leaf': 5, 'n_estimators': 25}, {'criterion': 'gini', 'max_depth': 5, 'max_samples': 0.75, 'min_samples_leaf': 5, 'n_estimators': 50}, {'criterion': 'gini', 'max_depth': 5, 'max_samples': 0.75, 'min_samples_leaf': 5, 'n_estimators': 100}, {'criterion': 'gini', 'max_depth': 5, 'max_samples': 0.75, 'min_samples_leaf': 10, 'n_estimators': 25}, {'criterion': 'gini', 'max_depth': 5, 'max_samples': 0.75, 'min_samples_leaf': 10, 'n_estimators': 50}, {'criterion': 'gini', 'max_depth': 5, 'max_samples': 0.75, 'min_samples_leaf': 10, 'n_estimators': 100}, {'criterion': 'gini', 'max_depth': 5, 'max_samples': 0.75, 'min_samples_leaf': 50, 'n_estimators': 25}, {'criterion': 'gini', 'max_depth': 5, 'max_samples': 0.75, 'min_samples_leaf': 50, 'n_estimators': 50}, {'criterion': 'gini', 'max_depth': 5, 'max_samples': 0.75, 'min_samples_leaf': 50, 'n_estimators': 100}], array([0.76774484, 0.79335213, 0.80639456, 0.68413634, 0.70470828,\n",
      "       0.72226952, 0.63786286, 0.65986406, 0.66116073, 0.50761219,\n",
      "       0.52107625, 0.52015603, 0.81346832, 0.83217396, 0.84501721,\n",
      "       0.74505471, 0.75877572, 0.76730214, 0.68819839, 0.70138711,\n",
      "       0.70876448, 0.56937822, 0.56756214, 0.57613049, 0.82876386,\n",
      "       0.846647  , 0.85014797, 0.76392149, 0.78190659, 0.78951344,\n",
      "       0.7162035 , 0.7299505 , 0.73738253, 0.59490941, 0.59491224,\n",
      "       0.60612446, 0.76818027, 0.79296057, 0.81145734, 0.68681939,\n",
      "       0.71176619, 0.72055856, 0.63094386, 0.66261486, 0.66577245,\n",
      "       0.49998423, 0.52514936, 0.51862889, 0.81382662, 0.83273962,\n",
      "       0.83754466, 0.7500381 , 0.7581735 , 0.76782466, 0.69371282,\n",
      "       0.70768854, 0.71230605, 0.56212195, 0.5654081 , 0.57681424,\n",
      "       0.82824535, 0.84403   , 0.84998389, 0.77235118, 0.78362375,\n",
      "       0.78923713, 0.72158222, 0.72982811, 0.74509899, 0.5793297 ,\n",
      "       0.59715203, 0.60444796, 0.761146  , 0.79229055, 0.80620462,\n",
      "       0.69081165, 0.71021996, 0.72014874, 0.64407515, 0.6554732 ,\n",
      "       0.66524823, 0.50095077, 0.51148182, 0.51444303, 0.81032895,\n",
      "       0.83219516, 0.8335529 , 0.73894016, 0.75627822, 0.76530405,\n",
      "       0.690883  , 0.70849493, 0.71459188, 0.55598114, 0.57511197,\n",
      "       0.5763487 , 0.82579999, 0.84676073, 0.85465649, 0.7669522 ,\n",
      "       0.78151296, 0.78803086, 0.71432394, 0.73292872, 0.74071153,\n",
      "       0.58779406, 0.60454211, 0.60225585, 0.55368731, 0.57161317,\n",
      "       0.57979487, 0.55360652, 0.55497293, 0.56806605, 0.53601439,\n",
      "       0.56061675, 0.56572867, 0.5070369 , 0.50487712, 0.50490687,\n",
      "       0.55915503, 0.57457245, 0.58523745, 0.55720162, 0.57356349,\n",
      "       0.5806989 , 0.55900921, 0.5717009 , 0.57755621, 0.52981759,\n",
      "       0.52522127, 0.54018006, 0.56492953, 0.58115822, 0.57338343,\n",
      "       0.5582469 , 0.56957636, 0.5783673 , 0.56361936, 0.57115927,\n",
      "       0.57745358, 0.53433357, 0.53047852, 0.54395694]), 98)\n",
      "{'criterion': 'gini', 'max_depth': 20, 'max_samples': 0.75, 'min_samples_leaf': 1, 'n_estimators': 100}\n",
      "([{'C': 100, 'penalty': 'l1'}, {'C': 100, 'penalty': 'l2'}, {'C': 10, 'penalty': 'l1'}, {'C': 10, 'penalty': 'l2'}, {'C': 1.0, 'penalty': 'l1'}, {'C': 1.0, 'penalty': 'l2'}, {'C': 0.1, 'penalty': 'l1'}, {'C': 0.1, 'penalty': 'l2'}, {'C': 0.01, 'penalty': 'l1'}, {'C': 0.01, 'penalty': 'l2'}, {'C': 0.001, 'penalty': 'l1'}, {'C': 0.001, 'penalty': 'l2'}, {'C': 0.0001, 'penalty': 'l1'}, {'C': 0.0001, 'penalty': 'l2'}, {'C': 0.0001, 'penalty': 'l1'}, {'C': 0.0001, 'penalty': 'l2'}], array([0.55652067, 0.495196  , 0.5569948 , 0.49481101, 0.55190445,\n",
      "       0.49298636, 0.53723809, 0.48210967, 0.4191282 , 0.4598403 ,\n",
      "       0.2511848 , 0.3995653 , 0.18113665, 0.31487037, 0.18113665,\n",
      "       0.31487037]), 2)\n",
      "{'C': 10, 'penalty': 'l1'}\n",
      "([{'n_neighbors': 3, 'weights': 'uniform'}, {'n_neighbors': 3, 'weights': 'distance'}, {'n_neighbors': 5, 'weights': 'uniform'}, {'n_neighbors': 5, 'weights': 'distance'}, {'n_neighbors': 10, 'weights': 'uniform'}, {'n_neighbors': 10, 'weights': 'distance'}, {'n_neighbors': 25, 'weights': 'uniform'}, {'n_neighbors': 25, 'weights': 'distance'}, {'n_neighbors': 50, 'weights': 'uniform'}, {'n_neighbors': 50, 'weights': 'distance'}, {'n_neighbors': 100, 'weights': 'uniform'}, {'n_neighbors': 100, 'weights': 'distance'}], array([0.80220043, 0.8141866 , 0.78593983, 0.80742592, 0.74199157,\n",
      "       0.7783553 , 0.64528035, 0.71946665, 0.5649451 , 0.67085601,\n",
      "       0.48791438, 0.61919828]), 1)\n",
      "{'n_neighbors': 3, 'weights': 'distance'}\n"
     ]
    }
   ],
   "source": [
    "# Storing MR trained CV values and then the best parameters as comments\n",
    "print(rf)\n",
    "print(rf[0][rf[2]]) # {'criterion': 'gini', 'max_depth': None, 'max_samples': 0.75, 'min_samples_leaf': 1, 'n_estimators': 100} \n",
    "print(lm)\n",
    "print(lm[0][lm[2]]) # {'C': 10, 'penalty': 'l1'}\n",
    "print(knn)\n",
    "print(knn[0][knn[2]]) # {'leaf_size': 3} MR is skeptical this isn't overfit"
   ]
  }
 ],
 "metadata": {
  "kernelspec": {
   "display_name": "costa_rica_proxy_means_test-oy7JmmkA-py3.12",
   "language": "python",
   "name": "python3"
  },
  "language_info": {
   "codemirror_mode": {
    "name": "ipython",
    "version": 3
   },
   "file_extension": ".py",
   "mimetype": "text/x-python",
   "name": "python",
   "nbconvert_exporter": "python",
   "pygments_lexer": "ipython3",
   "version": "3.12.1"
  }
 },
 "nbformat": 4,
 "nbformat_minor": 2
}
